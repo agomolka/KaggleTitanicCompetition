{
 "cells": [
  {
   "cell_type": "code",
   "execution_count": 2,
   "metadata": {},
   "outputs": [],
   "source": [
    "import pandas as pd\n",
    "import numpy as np\n",
    "import statistics \n",
    "import seaborn as sns\n",
    "import pickle\n",
    "import statsmodels.api as sm\n",
    "from IPython.display import display\n",
    "from sklearn import metrics, neighbors, preprocessing\n",
    "from sklearn.metrics import auc, roc_curve, roc_auc_score, classification_report\n",
    "from sklearn.model_selection import RandomizedSearchCV, GridSearchCV, KFold\n",
    "from sklearn.impute import SimpleImputer\n",
    "from sklearn.ensemble import RandomForestClassifier\n",
    "from sklearn.svm import SVC\n",
    "from sklearn.calibration import CalibratedClassifierCV\n",
    "from sklearn.model_selection import train_test_split\n",
    "from sklearn.preprocessing import OneHotEncoder as SklearnOneHotEncoder\n",
    "\n",
    "import matplotlib.pyplot as plt\n",
    "plt.style.use('seaborn-ticks')\n",
    "%matplotlib inline"
   ]
  },
  {
   "cell_type": "markdown",
   "metadata": {},
   "source": [
    "## TRAIN TEST"
   ]
  },
  {
   "cell_type": "code",
   "execution_count": 3,
   "metadata": {},
   "outputs": [
    {
     "name": "stdout",
     "output_type": "stream",
     "text": [
      "(891, 12)\n"
     ]
    },
    {
     "data": {
      "text/html": [
       "<div>\n",
       "<style scoped>\n",
       "    .dataframe tbody tr th:only-of-type {\n",
       "        vertical-align: middle;\n",
       "    }\n",
       "\n",
       "    .dataframe tbody tr th {\n",
       "        vertical-align: top;\n",
       "    }\n",
       "\n",
       "    .dataframe thead th {\n",
       "        text-align: right;\n",
       "    }\n",
       "</style>\n",
       "<table border=\"1\" class=\"dataframe\">\n",
       "  <thead>\n",
       "    <tr style=\"text-align: right;\">\n",
       "      <th></th>\n",
       "      <th>PassengerId</th>\n",
       "      <th>Survived</th>\n",
       "      <th>Pclass</th>\n",
       "      <th>Name</th>\n",
       "      <th>Sex</th>\n",
       "      <th>Age</th>\n",
       "      <th>SibSp</th>\n",
       "      <th>Parch</th>\n",
       "      <th>Ticket</th>\n",
       "      <th>Fare</th>\n",
       "      <th>Cabin</th>\n",
       "      <th>Embarked</th>\n",
       "    </tr>\n",
       "  </thead>\n",
       "  <tbody>\n",
       "    <tr>\n",
       "      <th>0</th>\n",
       "      <td>1</td>\n",
       "      <td>0</td>\n",
       "      <td>3</td>\n",
       "      <td>Braund, Mr. Owen Harris</td>\n",
       "      <td>male</td>\n",
       "      <td>22.0</td>\n",
       "      <td>1</td>\n",
       "      <td>0</td>\n",
       "      <td>A/5 21171</td>\n",
       "      <td>7.2500</td>\n",
       "      <td>NaN</td>\n",
       "      <td>S</td>\n",
       "    </tr>\n",
       "    <tr>\n",
       "      <th>1</th>\n",
       "      <td>2</td>\n",
       "      <td>1</td>\n",
       "      <td>1</td>\n",
       "      <td>Cumings, Mrs. John Bradley (Florence Briggs Th...</td>\n",
       "      <td>female</td>\n",
       "      <td>38.0</td>\n",
       "      <td>1</td>\n",
       "      <td>0</td>\n",
       "      <td>PC 17599</td>\n",
       "      <td>71.2833</td>\n",
       "      <td>C85</td>\n",
       "      <td>C</td>\n",
       "    </tr>\n",
       "    <tr>\n",
       "      <th>2</th>\n",
       "      <td>3</td>\n",
       "      <td>1</td>\n",
       "      <td>3</td>\n",
       "      <td>Heikkinen, Miss. Laina</td>\n",
       "      <td>female</td>\n",
       "      <td>26.0</td>\n",
       "      <td>0</td>\n",
       "      <td>0</td>\n",
       "      <td>STON/O2. 3101282</td>\n",
       "      <td>7.9250</td>\n",
       "      <td>NaN</td>\n",
       "      <td>S</td>\n",
       "    </tr>\n",
       "    <tr>\n",
       "      <th>3</th>\n",
       "      <td>4</td>\n",
       "      <td>1</td>\n",
       "      <td>1</td>\n",
       "      <td>Futrelle, Mrs. Jacques Heath (Lily May Peel)</td>\n",
       "      <td>female</td>\n",
       "      <td>35.0</td>\n",
       "      <td>1</td>\n",
       "      <td>0</td>\n",
       "      <td>113803</td>\n",
       "      <td>53.1000</td>\n",
       "      <td>C123</td>\n",
       "      <td>S</td>\n",
       "    </tr>\n",
       "    <tr>\n",
       "      <th>4</th>\n",
       "      <td>5</td>\n",
       "      <td>0</td>\n",
       "      <td>3</td>\n",
       "      <td>Allen, Mr. William Henry</td>\n",
       "      <td>male</td>\n",
       "      <td>35.0</td>\n",
       "      <td>0</td>\n",
       "      <td>0</td>\n",
       "      <td>373450</td>\n",
       "      <td>8.0500</td>\n",
       "      <td>NaN</td>\n",
       "      <td>S</td>\n",
       "    </tr>\n",
       "  </tbody>\n",
       "</table>\n",
       "</div>"
      ],
      "text/plain": [
       "   PassengerId  Survived  Pclass  \\\n",
       "0            1         0       3   \n",
       "1            2         1       1   \n",
       "2            3         1       3   \n",
       "3            4         1       1   \n",
       "4            5         0       3   \n",
       "\n",
       "                                                Name     Sex   Age  SibSp  \\\n",
       "0                            Braund, Mr. Owen Harris    male  22.0      1   \n",
       "1  Cumings, Mrs. John Bradley (Florence Briggs Th...  female  38.0      1   \n",
       "2                             Heikkinen, Miss. Laina  female  26.0      0   \n",
       "3       Futrelle, Mrs. Jacques Heath (Lily May Peel)  female  35.0      1   \n",
       "4                           Allen, Mr. William Henry    male  35.0      0   \n",
       "\n",
       "   Parch            Ticket     Fare Cabin Embarked  \n",
       "0      0         A/5 21171   7.2500   NaN        S  \n",
       "1      0          PC 17599  71.2833   C85        C  \n",
       "2      0  STON/O2. 3101282   7.9250   NaN        S  \n",
       "3      0            113803  53.1000  C123        S  \n",
       "4      0            373450   8.0500   NaN        S  "
      ]
     },
     "execution_count": 3,
     "metadata": {},
     "output_type": "execute_result"
    }
   ],
   "source": [
    "df = pd.read_csv(\"train.csv\")\n",
    "print(df.shape)\n",
    "df.head()"
   ]
  },
  {
   "cell_type": "markdown",
   "metadata": {},
   "source": [
    "## DATA ANLYSIS"
   ]
  },
  {
   "cell_type": "code",
   "execution_count": 4,
   "metadata": {},
   "outputs": [
    {
     "data": {
      "text/plain": [
       "['PassengerId',\n",
       " 'Survived',\n",
       " 'Pclass',\n",
       " 'Name',\n",
       " 'Sex',\n",
       " 'Age',\n",
       " 'SibSp',\n",
       " 'Parch',\n",
       " 'Ticket',\n",
       " 'Fare',\n",
       " 'Cabin',\n",
       " 'Embarked']"
      ]
     },
     "execution_count": 4,
     "metadata": {},
     "output_type": "execute_result"
    }
   ],
   "source": [
    "# list of explanatory variables\n",
    "features = df.columns.tolist()\n",
    "features"
   ]
  },
  {
   "cell_type": "code",
   "execution_count": 5,
   "metadata": {},
   "outputs": [
    {
     "data": {
      "text/plain": [
       "array([0, 1, 2, 3, 4, 5, 6])"
      ]
     },
     "execution_count": 5,
     "metadata": {},
     "output_type": "execute_result"
    }
   ],
   "source": [
    "# # of parents / children aboard the Titanic\n",
    "parch_unique = df['Parch'].unique()\n",
    "np.sort(parch_unique)"
   ]
  },
  {
   "cell_type": "code",
   "execution_count": 6,
   "metadata": {},
   "outputs": [
    {
     "data": {
      "text/plain": [
       "array([0, 1, 2, 3, 4, 5, 8])"
      ]
     },
     "execution_count": 6,
     "metadata": {},
     "output_type": "execute_result"
    }
   ],
   "source": [
    "# # of siblings / spouses aboard the Titanic\n",
    "sibsp_unique = df['SibSp'].unique()\n",
    "np.sort(sibsp_unique)"
   ]
  },
  {
   "cell_type": "code",
   "execution_count": 7,
   "metadata": {},
   "outputs": [
    {
     "data": {
      "text/plain": [
       "array(['female', 'male'], dtype=object)"
      ]
     },
     "execution_count": 7,
     "metadata": {},
     "output_type": "execute_result"
    }
   ],
   "source": [
    "sex_unique = df['Sex'].unique()\n",
    "np.sort(sex_unique)"
   ]
  },
  {
   "cell_type": "code",
   "execution_count": 8,
   "metadata": {},
   "outputs": [
    {
     "data": {
      "text/plain": [
       "Sex     Survived\n",
       "female  0            81\n",
       "        1           233\n",
       "male    0           468\n",
       "        1           109\n",
       "Name: Survived, dtype: int64"
      ]
     },
     "execution_count": 8,
     "metadata": {},
     "output_type": "execute_result"
    }
   ],
   "source": [
    "df.groupby(['Sex','Survived'])['Survived'].count()"
   ]
  },
  {
   "cell_type": "code",
   "execution_count": 9,
   "metadata": {},
   "outputs": [
    {
     "data": {
      "image/png": "[encoded data removed]",
      "text/plain": [
       "<Figure size 1296x576 with 2 Axes>"
      ]
     },
     "metadata": {
      "needs_background": "light"
     },
     "output_type": "display_data"
    }
   ],
   "source": [
    "f, ax = plt.subplots(1,2,figsize=(18,8))\n",
    "\n",
    "df['Survived'].value_counts().plot.pie(explode=[0,0.1], autopct='%1.1f%%',ax=ax[0], shadow=True)\n",
    "ax[0].set_title('Survived')\n",
    "\n",
    "sns.countplot(x='Sex', hue='Survived', data=df, ax=ax[1])\n",
    "ax[1].set_title('Sex and survival rate')\n",
    "\n",
    "plt.show()"
   ]
  },
  {
   "cell_type": "code",
   "execution_count": 10,
   "metadata": {},
   "outputs": [
    {
     "name": "stdout",
     "output_type": "stream",
     "text": [
      "Average age on board: : 30.0\n"
     ]
    },
    {
     "data": {
      "text/plain": [
       "Text(0.5, 0, 'Age')"
      ]
     },
     "execution_count": 10,
     "metadata": {},
     "output_type": "execute_result"
    },
    {
     "data": {
      "image/png": "[encoded data removed]",
      "text/plain": [
       "<Figure size 432x288 with 1 Axes>"
      ]
     },
     "metadata": {
      "needs_background": "light"
     },
     "output_type": "display_data"
    }
   ],
   "source": [
    "print(\"Average age on board: :\", np.round(df['Age'].mean(),0))\n",
    "sns.kdeplot(data=df['Age'], shade=True)\n",
    "plt.title(\"Age on Titanic\")\n",
    "plt.ylabel('Quantity')\n",
    "plt.xlabel('Age')"
   ]
  },
  {
   "cell_type": "code",
   "execution_count": 11,
   "metadata": {},
   "outputs": [
    {
     "data": {
      "text/plain": [
       "<seaborn.axisgrid.FacetGrid at 0x7ffcbd0306d0>"
      ]
     },
     "execution_count": 11,
     "metadata": {},
     "output_type": "execute_result"
    },
    {
     "data": {
      "image/png": "[encoded data removed]",
      "text/plain": [
       "<Figure size 911x216 with 1 Axes>"
      ]
     },
     "metadata": {
      "needs_background": "light"
     },
     "output_type": "display_data"
    }
   ],
   "source": [
    "w = sns.FacetGrid(df, hue=\"Survived\",aspect=4)\n",
    "w.map(sns.kdeplot,'Age',shade= True)\n",
    "w.set(xlim=(0, df['Age'].max()))\n",
    "plt.title(\"Survived/not survived passengers by their age\")\n",
    "plt.ylabel('Quantity')\n",
    "w.add_legend()"
   ]
  },
  {
   "cell_type": "code",
   "execution_count": 12,
   "metadata": {},
   "outputs": [
    {
     "data": {
      "text/plain": [
       "Text(0.5, 1.0, 'Age and survived')"
      ]
     },
     "execution_count": 12,
     "metadata": {},
     "output_type": "execute_result"
    },
    {
     "data": {
      "image/png": "[encoded data removed]",
      "text/plain": [
       "<Figure size 1296x576 with 1 Axes>"
      ]
     },
     "metadata": {
      "needs_background": "light"
     },
     "output_type": "display_data"
    }
   ],
   "source": [
    "fig, axs = plt.subplots(figsize=(18,8))\n",
    "sns.boxplot(x='Survived', y='Age', data=df)\n",
    "plt.title(\"Age and survived\")"
   ]
  },
  {
   "cell_type": "markdown",
   "metadata": {},
   "source": [
    "The average age of the survivors and non-survivors is comparable."
   ]
  },
  {
   "cell_type": "code",
   "execution_count": 13,
   "metadata": {},
   "outputs": [
    {
     "data": {
      "text/plain": [
       "Survived\n",
       "0    30.626179\n",
       "1    28.343690\n",
       "Name: Age, dtype: float64"
      ]
     },
     "execution_count": 13,
     "metadata": {},
     "output_type": "execute_result"
    }
   ],
   "source": [
    "df.groupby(['Survived'])['Age'].mean()"
   ]
  },
  {
   "cell_type": "markdown",
   "metadata": {},
   "source": [
    "The median for survival is lower than for the dead. More elderly people were in the group of the deceased. On the other hand, youth and being a young child did not guarantee survival."
   ]
  },
  {
   "cell_type": "code",
   "execution_count": 14,
   "metadata": {},
   "outputs": [
    {
     "data": {
      "text/plain": [
       "Text(0.5, 1.0, 'Fare and survived')"
      ]
     },
     "execution_count": 14,
     "metadata": {},
     "output_type": "execute_result"
    },
    {
     "data": {
      "image/png": "[encoded data removed]",
      "text/plain": [
       "<Figure size 1296x576 with 1 Axes>"
      ]
     },
     "metadata": {
      "needs_background": "light"
     },
     "output_type": "display_data"
    }
   ],
   "source": [
    "fig, axs = plt.subplots(figsize=(18,8))\n",
    "sns.boxplot(x='Survived', y='Fare', data=df)\n",
    "\n",
    "plt.title(\"Fare and survived\")"
   ]
  },
  {
   "cell_type": "markdown",
   "metadata": {},
   "source": [
    "Remove outlier from df['Fare']"
   ]
  },
  {
   "cell_type": "code",
   "execution_count": 15,
   "metadata": {},
   "outputs": [
    {
     "name": "stdout",
     "output_type": "stream",
     "text": [
      "Counting of unique values in df.Embarked\n"
     ]
    },
    {
     "data": {
      "text/plain": [
       "S    644\n",
       "C    168\n",
       "Q     77\n",
       "Name: Embarked, dtype: int64"
      ]
     },
     "execution_count": 15,
     "metadata": {},
     "output_type": "execute_result"
    }
   ],
   "source": [
    "print(\"Counting of unique values in df.Embarked\")\n",
    "df.Embarked.value_counts()"
   ]
  },
  {
   "cell_type": "code",
   "execution_count": 16,
   "metadata": {},
   "outputs": [
    {
     "data": {
      "text/plain": [
       "Text(0.5, 1.0, 'Fare and survived')"
      ]
     },
     "execution_count": 16,
     "metadata": {},
     "output_type": "execute_result"
    },
    {
     "data": {
      "image/png": "[encoded data removed]",
      "text/plain": [
       "<Figure size 1296x576 with 1 Axes>"
      ]
     },
     "metadata": {
      "needs_background": "light"
     },
     "output_type": "display_data"
    }
   ],
   "source": [
    "df3 = pd.read_csv(\"train.csv\")\n",
    "\n",
    "Q1 = df3['Fare'].quantile(0.25)\n",
    "Q3 = df3['Fare'].quantile(0.75)\n",
    "IQR = Q3-Q1 \n",
    "fence_low  = Q1-1.5*IQR\n",
    "fence_high = Q3+1.5*IQR\n",
    "mask = (df3['Fare'] > fence_high) | (df3['Fare'] < fence_low)\n",
    "df3.loc[mask, 'Fare'] = np.nan\n",
    "    \n",
    "fig, axs = plt.subplots(figsize=(18,8))\n",
    "sns.boxplot(x='Survived', y='Fare', data=df3)\n",
    "plt.title(\"Fare and survived\")"
   ]
  },
  {
   "cell_type": "code",
   "execution_count": 17,
   "metadata": {},
   "outputs": [
    {
     "name": "stderr",
     "output_type": "stream",
     "text": [
      "/Users/ola/opt/anaconda3/lib/python3.8/site-packages/seaborn/axisgrid.py:243: UserWarning: The `size` parameter has been renamed to `height`; please update your code.\n",
      "  warnings.warn(msg, UserWarning)\n"
     ]
    },
    {
     "data": {
      "image/png": "[encoded data removed]",
      "text/plain": [
       "<Figure size 911x288 with 3 Axes>"
      ]
     },
     "metadata": {
      "needs_background": "light"
     },
     "output_type": "display_data"
    }
   ],
   "source": [
    "g = sns.FacetGrid(df, hue=\"Survived\", col=\"Pclass\", margin_titles=True,palette={1:\"green\", 0:\"red\"}, size=4, aspect=1)\n",
    "g=g.map(plt.scatter, \"Fare\", \"Age\",edgecolor=\"w\").add_legend();"
   ]
  },
  {
   "cell_type": "code",
   "execution_count": 18,
   "metadata": {},
   "outputs": [
    {
     "data": {
      "text/plain": [
       "Text(0.5, 0.98, 'Survival by Gender , Age and Fare')"
      ]
     },
     "execution_count": 18,
     "metadata": {},
     "output_type": "execute_result"
    },
    {
     "data": {
      "image/png": "[encoded data removed]",
      "text/plain": [
       "<Figure size 623x288 with 2 Axes>"
      ]
     },
     "metadata": {
      "needs_background": "light"
     },
     "output_type": "display_data"
    }
   ],
   "source": [
    "g = sns.FacetGrid(df, hue=\"Survived\", col=\"Sex\", margin_titles=True, palette=\"Set1\", size=4, aspect=1)\n",
    "\n",
    "g.map(plt.scatter, \"Fare\", \"Age\",edgecolor=\"w\").add_legend()\n",
    "plt.subplots_adjust(top=0.8)\n",
    "\n",
    "g.fig.suptitle('Survival by Gender , Age and Fare')"
   ]
  },
  {
   "cell_type": "markdown",
   "metadata": {},
   "source": [
    "## TEST SET"
   ]
  },
  {
   "cell_type": "code",
   "execution_count": 19,
   "metadata": {},
   "outputs": [
    {
     "name": "stdout",
     "output_type": "stream",
     "text": [
      "(418, 11)\n"
     ]
    },
    {
     "data": {
      "text/html": [
       "<div>\n",
       "<style scoped>\n",
       "    .dataframe tbody tr th:only-of-type {\n",
       "        vertical-align: middle;\n",
       "    }\n",
       "\n",
       "    .dataframe tbody tr th {\n",
       "        vertical-align: top;\n",
       "    }\n",
       "\n",
       "    .dataframe thead th {\n",
       "        text-align: right;\n",
       "    }\n",
       "</style>\n",
       "<table border=\"1\" class=\"dataframe\">\n",
       "  <thead>\n",
       "    <tr style=\"text-align: right;\">\n",
       "      <th></th>\n",
       "      <th>PassengerId</th>\n",
       "      <th>Pclass</th>\n",
       "      <th>Name</th>\n",
       "      <th>Sex</th>\n",
       "      <th>Age</th>\n",
       "      <th>SibSp</th>\n",
       "      <th>Parch</th>\n",
       "      <th>Ticket</th>\n",
       "      <th>Fare</th>\n",
       "      <th>Cabin</th>\n",
       "      <th>Embarked</th>\n",
       "    </tr>\n",
       "  </thead>\n",
       "  <tbody>\n",
       "    <tr>\n",
       "      <th>0</th>\n",
       "      <td>892</td>\n",
       "      <td>3</td>\n",
       "      <td>Kelly, Mr. James</td>\n",
       "      <td>male</td>\n",
       "      <td>34.5</td>\n",
       "      <td>0</td>\n",
       "      <td>0</td>\n",
       "      <td>330911</td>\n",
       "      <td>7.8292</td>\n",
       "      <td>NaN</td>\n",
       "      <td>Q</td>\n",
       "    </tr>\n",
       "    <tr>\n",
       "      <th>1</th>\n",
       "      <td>893</td>\n",
       "      <td>3</td>\n",
       "      <td>Wilkes, Mrs. James (Ellen Needs)</td>\n",
       "      <td>female</td>\n",
       "      <td>47.0</td>\n",
       "      <td>1</td>\n",
       "      <td>0</td>\n",
       "      <td>363272</td>\n",
       "      <td>7.0000</td>\n",
       "      <td>NaN</td>\n",
       "      <td>S</td>\n",
       "    </tr>\n",
       "    <tr>\n",
       "      <th>2</th>\n",
       "      <td>894</td>\n",
       "      <td>2</td>\n",
       "      <td>Myles, Mr. Thomas Francis</td>\n",
       "      <td>male</td>\n",
       "      <td>62.0</td>\n",
       "      <td>0</td>\n",
       "      <td>0</td>\n",
       "      <td>240276</td>\n",
       "      <td>9.6875</td>\n",
       "      <td>NaN</td>\n",
       "      <td>Q</td>\n",
       "    </tr>\n",
       "    <tr>\n",
       "      <th>3</th>\n",
       "      <td>895</td>\n",
       "      <td>3</td>\n",
       "      <td>Wirz, Mr. Albert</td>\n",
       "      <td>male</td>\n",
       "      <td>27.0</td>\n",
       "      <td>0</td>\n",
       "      <td>0</td>\n",
       "      <td>315154</td>\n",
       "      <td>8.6625</td>\n",
       "      <td>NaN</td>\n",
       "      <td>S</td>\n",
       "    </tr>\n",
       "    <tr>\n",
       "      <th>4</th>\n",
       "      <td>896</td>\n",
       "      <td>3</td>\n",
       "      <td>Hirvonen, Mrs. Alexander (Helga E Lindqvist)</td>\n",
       "      <td>female</td>\n",
       "      <td>22.0</td>\n",
       "      <td>1</td>\n",
       "      <td>1</td>\n",
       "      <td>3101298</td>\n",
       "      <td>12.2875</td>\n",
       "      <td>NaN</td>\n",
       "      <td>S</td>\n",
       "    </tr>\n",
       "  </tbody>\n",
       "</table>\n",
       "</div>"
      ],
      "text/plain": [
       "   PassengerId  Pclass                                          Name     Sex  \\\n",
       "0          892       3                              Kelly, Mr. James    male   \n",
       "1          893       3              Wilkes, Mrs. James (Ellen Needs)  female   \n",
       "2          894       2                     Myles, Mr. Thomas Francis    male   \n",
       "3          895       3                              Wirz, Mr. Albert    male   \n",
       "4          896       3  Hirvonen, Mrs. Alexander (Helga E Lindqvist)  female   \n",
       "\n",
       "    Age  SibSp  Parch   Ticket     Fare Cabin Embarked  \n",
       "0  34.5      0      0   330911   7.8292   NaN        Q  \n",
       "1  47.0      1      0   363272   7.0000   NaN        S  \n",
       "2  62.0      0      0   240276   9.6875   NaN        Q  \n",
       "3  27.0      0      0   315154   8.6625   NaN        S  \n",
       "4  22.0      1      1  3101298  12.2875   NaN        S  "
      ]
     },
     "execution_count": 19,
     "metadata": {},
     "output_type": "execute_result"
    }
   ],
   "source": [
    "df_test = pd.read_csv(\"test.csv\")\n",
    "print(df_test.shape)\n",
    "df_test.head()"
   ]
  },
  {
   "cell_type": "markdown",
   "metadata": {},
   "source": [
    "## CLEANING"
   ]
  },
  {
   "cell_type": "code",
   "execution_count": 21,
   "metadata": {},
   "outputs": [
    {
     "name": "stdout",
     "output_type": "stream",
     "text": [
      "PassengerId      0\n",
      "Survived         0\n",
      "Pclass           0\n",
      "Name             0\n",
      "Sex              0\n",
      "Age            177\n",
      "SibSp            0\n",
      "Parch            0\n",
      "Ticket           0\n",
      "Fare             0\n",
      "Cabin          687\n",
      "Embarked         2\n",
      "dtype: int64\n"
     ]
    }
   ],
   "source": [
    "# get the number of missing data points per column\n",
    "missing_values_count = df.isnull().sum()\n",
    "print(missing_values_count)"
   ]
  },
  {
   "cell_type": "code",
   "execution_count": 22,
   "metadata": {},
   "outputs": [
    {
     "name": "stdout",
     "output_type": "stream",
     "text": [
      "PassengerId      0\n",
      "Pclass           0\n",
      "Name             0\n",
      "Sex              0\n",
      "Age             86\n",
      "SibSp            0\n",
      "Parch            0\n",
      "Ticket           0\n",
      "Fare             1\n",
      "Cabin          327\n",
      "Embarked         0\n",
      "dtype: int64\n"
     ]
    }
   ],
   "source": [
    "# get the number of missing data points per column\n",
    "missing_values_count_test = df_test.isnull().sum()\n",
    "print(missing_values_count_test)"
   ]
  },
  {
   "cell_type": "code",
   "execution_count": 23,
   "metadata": {},
   "outputs": [],
   "source": [
    "imputer = SimpleImputer(strategy='mean')\n",
    "imputer.fit(df[['Age']], df[['Fare']])\n",
    "\n",
    "def cleaning(df):\n",
    "    \n",
    "    #Age\n",
    "    df['Age'] = imputer.transform(df[['Age']])\n",
    "\n",
    "    #Cabin\n",
    "    df['Cabin'] = [x[0] if isinstance(x, str) else np.nan for x in df['Cabin']]\n",
    "    df['Cabin'] = df['Cabin'].fillna('no_data')\n",
    "         \n",
    "    #Embarked \n",
    "    if df['Embarked'].isnull().sum() != 0:\n",
    "        #filling the most common value\n",
    "        df['Embarked'] = df['Embarked'].fillna('S')\n",
    "    \n",
    "    #Fare\n",
    "    if df['Fare'].isnull().sum() != 0:\n",
    "        df['Fare'] = imputer.transform(df[['Fare']])\n",
    "    "
   ]
  },
  {
   "cell_type": "code",
   "execution_count": 24,
   "metadata": {},
   "outputs": [],
   "source": [
    "cleaning(df)\n",
    "cleaning(df_test)"
   ]
  },
  {
   "cell_type": "code",
   "execution_count": 25,
   "metadata": {},
   "outputs": [
    {
     "name": "stdout",
     "output_type": "stream",
     "text": [
      "PassengerId    0\n",
      "Survived       0\n",
      "Pclass         0\n",
      "Name           0\n",
      "Sex            0\n",
      "Age            0\n",
      "SibSp          0\n",
      "Parch          0\n",
      "Ticket         0\n",
      "Fare           0\n",
      "Cabin          0\n",
      "Embarked       0\n",
      "dtype: int64\n"
     ]
    }
   ],
   "source": [
    "missing_values_count = df.isnull().sum()\n",
    "print(missing_values_count)"
   ]
  },
  {
   "cell_type": "code",
   "execution_count": 26,
   "metadata": {},
   "outputs": [
    {
     "name": "stdout",
     "output_type": "stream",
     "text": [
      "PassengerId    0\n",
      "Pclass         0\n",
      "Name           0\n",
      "Sex            0\n",
      "Age            0\n",
      "SibSp          0\n",
      "Parch          0\n",
      "Ticket         0\n",
      "Fare           0\n",
      "Cabin          0\n",
      "Embarked       0\n",
      "dtype: int64\n"
     ]
    }
   ],
   "source": [
    "missing_values_count_test = df_test.isnull().sum()\n",
    "print(missing_values_count_test)"
   ]
  },
  {
   "cell_type": "markdown",
   "metadata": {},
   "source": [
    "## ONE HOT ENCODING"
   ]
  },
  {
   "cell_type": "code",
   "execution_count": 27,
   "metadata": {},
   "outputs": [],
   "source": [
    "class OneHotEncoder(SklearnOneHotEncoder):\n",
    "    def __init__(self, **kwargs):\n",
    "        super(OneHotEncoder, self).__init__(**kwargs)\n",
    "        self.fit_flag = False\n",
    "\n",
    "    def fit(self, X, **kwargs):\n",
    "        out = super().fit(X)\n",
    "        self.fit_flag = True\n",
    "        return out\n",
    "\n",
    "    def transform(self, X, **kwargs):\n",
    "        sparse_matrix = super(OneHotEncoder, self).transform(X)\n",
    "        new_columns = self.get_new_columns(X=X)\n",
    "        d_out = pd.DataFrame(sparse_matrix.toarray(), columns=new_columns, index=X.index)\n",
    "        return d_out\n",
    "\n",
    "    def fit_transform(self, X, **kwargs):\n",
    "        self.fit(X)\n",
    "        return self.transform(X)\n",
    "\n",
    "    def get_new_columns(self, X):\n",
    "        new_columns = []\n",
    "        for i, column in enumerate(X.columns):\n",
    "            j = 0\n",
    "            while j < len(self.categories_[i]):\n",
    "                new_columns.append(f'{column}_{self.categories_[i][j]}')\n",
    "                j += 1\n",
    "        return new_columns\n"
   ]
  },
  {
   "cell_type": "code",
   "execution_count": 28,
   "metadata": {},
   "outputs": [],
   "source": [
    "target = 'Survived'\n",
    "numFeatures = ['Pclass', 'Age', 'SibSp', 'Parch', 'Fare']\n",
    "catFeatures = ['Sex', 'Cabin', 'Embarked']\n",
    "\n",
    "encoder = OneHotEncoder()\n",
    "encoder_cols_train = encoder.fit_transform(df[catFeatures])\n",
    "encoder_cols_test = encoder.transform(df_test[catFeatures])"
   ]
  },
  {
   "cell_type": "code",
   "execution_count": 29,
   "metadata": {},
   "outputs": [],
   "source": [
    "num_df_train = df[numFeatures]\n",
    "num_df_test = df_test[numFeatures]\n",
    "\n",
    "target_df_train = df[target]\n",
    "\n",
    "temp = pd.concat([num_df_train, encoder_cols_train], axis=1)\n",
    "\n",
    "# Add one-hot encoded columns to numerical features\n",
    "df = pd.concat([temp, target_df_train], axis=1)\n",
    "df_test = pd.concat([num_df_test, encoder_cols_test], axis=1)"
   ]
  },
  {
   "cell_type": "code",
   "execution_count": 30,
   "metadata": {},
   "outputs": [
    {
     "data": {
      "text/html": [
       "<div>\n",
       "<style scoped>\n",
       "    .dataframe tbody tr th:only-of-type {\n",
       "        vertical-align: middle;\n",
       "    }\n",
       "\n",
       "    .dataframe tbody tr th {\n",
       "        vertical-align: top;\n",
       "    }\n",
       "\n",
       "    .dataframe thead th {\n",
       "        text-align: right;\n",
       "    }\n",
       "</style>\n",
       "<table border=\"1\" class=\"dataframe\">\n",
       "  <thead>\n",
       "    <tr style=\"text-align: right;\">\n",
       "      <th></th>\n",
       "      <th>Pclass</th>\n",
       "      <th>Age</th>\n",
       "      <th>SibSp</th>\n",
       "      <th>Parch</th>\n",
       "      <th>Fare</th>\n",
       "      <th>Sex_female</th>\n",
       "      <th>Sex_male</th>\n",
       "      <th>Cabin_A</th>\n",
       "      <th>Cabin_B</th>\n",
       "      <th>Cabin_C</th>\n",
       "      <th>Cabin_D</th>\n",
       "      <th>Cabin_E</th>\n",
       "      <th>Cabin_F</th>\n",
       "      <th>Cabin_G</th>\n",
       "      <th>Cabin_T</th>\n",
       "      <th>Cabin_no_data</th>\n",
       "      <th>Embarked_C</th>\n",
       "      <th>Embarked_Q</th>\n",
       "      <th>Embarked_S</th>\n",
       "      <th>Survived</th>\n",
       "    </tr>\n",
       "  </thead>\n",
       "  <tbody>\n",
       "    <tr>\n",
       "      <th>0</th>\n",
       "      <td>3</td>\n",
       "      <td>22.0</td>\n",
       "      <td>1</td>\n",
       "      <td>0</td>\n",
       "      <td>7.2500</td>\n",
       "      <td>0.0</td>\n",
       "      <td>1.0</td>\n",
       "      <td>0.0</td>\n",
       "      <td>0.0</td>\n",
       "      <td>0.0</td>\n",
       "      <td>0.0</td>\n",
       "      <td>0.0</td>\n",
       "      <td>0.0</td>\n",
       "      <td>0.0</td>\n",
       "      <td>0.0</td>\n",
       "      <td>1.0</td>\n",
       "      <td>0.0</td>\n",
       "      <td>0.0</td>\n",
       "      <td>1.0</td>\n",
       "      <td>0</td>\n",
       "    </tr>\n",
       "    <tr>\n",
       "      <th>1</th>\n",
       "      <td>1</td>\n",
       "      <td>38.0</td>\n",
       "      <td>1</td>\n",
       "      <td>0</td>\n",
       "      <td>71.2833</td>\n",
       "      <td>1.0</td>\n",
       "      <td>0.0</td>\n",
       "      <td>0.0</td>\n",
       "      <td>0.0</td>\n",
       "      <td>1.0</td>\n",
       "      <td>0.0</td>\n",
       "      <td>0.0</td>\n",
       "      <td>0.0</td>\n",
       "      <td>0.0</td>\n",
       "      <td>0.0</td>\n",
       "      <td>0.0</td>\n",
       "      <td>1.0</td>\n",
       "      <td>0.0</td>\n",
       "      <td>0.0</td>\n",
       "      <td>1</td>\n",
       "    </tr>\n",
       "    <tr>\n",
       "      <th>2</th>\n",
       "      <td>3</td>\n",
       "      <td>26.0</td>\n",
       "      <td>0</td>\n",
       "      <td>0</td>\n",
       "      <td>7.9250</td>\n",
       "      <td>1.0</td>\n",
       "      <td>0.0</td>\n",
       "      <td>0.0</td>\n",
       "      <td>0.0</td>\n",
       "      <td>0.0</td>\n",
       "      <td>0.0</td>\n",
       "      <td>0.0</td>\n",
       "      <td>0.0</td>\n",
       "      <td>0.0</td>\n",
       "      <td>0.0</td>\n",
       "      <td>1.0</td>\n",
       "      <td>0.0</td>\n",
       "      <td>0.0</td>\n",
       "      <td>1.0</td>\n",
       "      <td>1</td>\n",
       "    </tr>\n",
       "    <tr>\n",
       "      <th>3</th>\n",
       "      <td>1</td>\n",
       "      <td>35.0</td>\n",
       "      <td>1</td>\n",
       "      <td>0</td>\n",
       "      <td>53.1000</td>\n",
       "      <td>1.0</td>\n",
       "      <td>0.0</td>\n",
       "      <td>0.0</td>\n",
       "      <td>0.0</td>\n",
       "      <td>1.0</td>\n",
       "      <td>0.0</td>\n",
       "      <td>0.0</td>\n",
       "      <td>0.0</td>\n",
       "      <td>0.0</td>\n",
       "      <td>0.0</td>\n",
       "      <td>0.0</td>\n",
       "      <td>0.0</td>\n",
       "      <td>0.0</td>\n",
       "      <td>1.0</td>\n",
       "      <td>1</td>\n",
       "    </tr>\n",
       "    <tr>\n",
       "      <th>4</th>\n",
       "      <td>3</td>\n",
       "      <td>35.0</td>\n",
       "      <td>0</td>\n",
       "      <td>0</td>\n",
       "      <td>8.0500</td>\n",
       "      <td>0.0</td>\n",
       "      <td>1.0</td>\n",
       "      <td>0.0</td>\n",
       "      <td>0.0</td>\n",
       "      <td>0.0</td>\n",
       "      <td>0.0</td>\n",
       "      <td>0.0</td>\n",
       "      <td>0.0</td>\n",
       "      <td>0.0</td>\n",
       "      <td>0.0</td>\n",
       "      <td>1.0</td>\n",
       "      <td>0.0</td>\n",
       "      <td>0.0</td>\n",
       "      <td>1.0</td>\n",
       "      <td>0</td>\n",
       "    </tr>\n",
       "  </tbody>\n",
       "</table>\n",
       "</div>"
      ],
      "text/plain": [
       "   Pclass   Age  SibSp  Parch     Fare  Sex_female  Sex_male  Cabin_A  \\\n",
       "0       3  22.0      1      0   7.2500         0.0       1.0      0.0   \n",
       "1       1  38.0      1      0  71.2833         1.0       0.0      0.0   \n",
       "2       3  26.0      0      0   7.9250         1.0       0.0      0.0   \n",
       "3       1  35.0      1      0  53.1000         1.0       0.0      0.0   \n",
       "4       3  35.0      0      0   8.0500         0.0       1.0      0.0   \n",
       "\n",
       "   Cabin_B  Cabin_C  Cabin_D  Cabin_E  Cabin_F  Cabin_G  Cabin_T  \\\n",
       "0      0.0      0.0      0.0      0.0      0.0      0.0      0.0   \n",
       "1      0.0      1.0      0.0      0.0      0.0      0.0      0.0   \n",
       "2      0.0      0.0      0.0      0.0      0.0      0.0      0.0   \n",
       "3      0.0      1.0      0.0      0.0      0.0      0.0      0.0   \n",
       "4      0.0      0.0      0.0      0.0      0.0      0.0      0.0   \n",
       "\n",
       "   Cabin_no_data  Embarked_C  Embarked_Q  Embarked_S  Survived  \n",
       "0            1.0         0.0         0.0         1.0         0  \n",
       "1            0.0         1.0         0.0         0.0         1  \n",
       "2            1.0         0.0         0.0         1.0         1  \n",
       "3            0.0         0.0         0.0         1.0         1  \n",
       "4            1.0         0.0         0.0         1.0         0  "
      ]
     },
     "execution_count": 30,
     "metadata": {},
     "output_type": "execute_result"
    }
   ],
   "source": [
    "df.head()"
   ]
  },
  {
   "cell_type": "code",
   "execution_count": 31,
   "metadata": {
    "scrolled": true
   },
   "outputs": [
    {
     "data": {
      "text/html": [
       "<div>\n",
       "<style scoped>\n",
       "    .dataframe tbody tr th:only-of-type {\n",
       "        vertical-align: middle;\n",
       "    }\n",
       "\n",
       "    .dataframe tbody tr th {\n",
       "        vertical-align: top;\n",
       "    }\n",
       "\n",
       "    .dataframe thead th {\n",
       "        text-align: right;\n",
       "    }\n",
       "</style>\n",
       "<table border=\"1\" class=\"dataframe\">\n",
       "  <thead>\n",
       "    <tr style=\"text-align: right;\">\n",
       "      <th></th>\n",
       "      <th>Pclass</th>\n",
       "      <th>Age</th>\n",
       "      <th>SibSp</th>\n",
       "      <th>Parch</th>\n",
       "      <th>Fare</th>\n",
       "      <th>Sex_female</th>\n",
       "      <th>Sex_male</th>\n",
       "      <th>Cabin_A</th>\n",
       "      <th>Cabin_B</th>\n",
       "      <th>Cabin_C</th>\n",
       "      <th>Cabin_D</th>\n",
       "      <th>Cabin_E</th>\n",
       "      <th>Cabin_F</th>\n",
       "      <th>Cabin_G</th>\n",
       "      <th>Cabin_T</th>\n",
       "      <th>Cabin_no_data</th>\n",
       "      <th>Embarked_C</th>\n",
       "      <th>Embarked_Q</th>\n",
       "      <th>Embarked_S</th>\n",
       "    </tr>\n",
       "  </thead>\n",
       "  <tbody>\n",
       "    <tr>\n",
       "      <th>0</th>\n",
       "      <td>3</td>\n",
       "      <td>34.5</td>\n",
       "      <td>0</td>\n",
       "      <td>0</td>\n",
       "      <td>7.8292</td>\n",
       "      <td>0.0</td>\n",
       "      <td>1.0</td>\n",
       "      <td>0.0</td>\n",
       "      <td>0.0</td>\n",
       "      <td>0.0</td>\n",
       "      <td>0.0</td>\n",
       "      <td>0.0</td>\n",
       "      <td>0.0</td>\n",
       "      <td>0.0</td>\n",
       "      <td>0.0</td>\n",
       "      <td>1.0</td>\n",
       "      <td>0.0</td>\n",
       "      <td>1.0</td>\n",
       "      <td>0.0</td>\n",
       "    </tr>\n",
       "    <tr>\n",
       "      <th>1</th>\n",
       "      <td>3</td>\n",
       "      <td>47.0</td>\n",
       "      <td>1</td>\n",
       "      <td>0</td>\n",
       "      <td>7.0000</td>\n",
       "      <td>1.0</td>\n",
       "      <td>0.0</td>\n",
       "      <td>0.0</td>\n",
       "      <td>0.0</td>\n",
       "      <td>0.0</td>\n",
       "      <td>0.0</td>\n",
       "      <td>0.0</td>\n",
       "      <td>0.0</td>\n",
       "      <td>0.0</td>\n",
       "      <td>0.0</td>\n",
       "      <td>1.0</td>\n",
       "      <td>0.0</td>\n",
       "      <td>0.0</td>\n",
       "      <td>1.0</td>\n",
       "    </tr>\n",
       "    <tr>\n",
       "      <th>2</th>\n",
       "      <td>2</td>\n",
       "      <td>62.0</td>\n",
       "      <td>0</td>\n",
       "      <td>0</td>\n",
       "      <td>9.6875</td>\n",
       "      <td>0.0</td>\n",
       "      <td>1.0</td>\n",
       "      <td>0.0</td>\n",
       "      <td>0.0</td>\n",
       "      <td>0.0</td>\n",
       "      <td>0.0</td>\n",
       "      <td>0.0</td>\n",
       "      <td>0.0</td>\n",
       "      <td>0.0</td>\n",
       "      <td>0.0</td>\n",
       "      <td>1.0</td>\n",
       "      <td>0.0</td>\n",
       "      <td>1.0</td>\n",
       "      <td>0.0</td>\n",
       "    </tr>\n",
       "    <tr>\n",
       "      <th>3</th>\n",
       "      <td>3</td>\n",
       "      <td>27.0</td>\n",
       "      <td>0</td>\n",
       "      <td>0</td>\n",
       "      <td>8.6625</td>\n",
       "      <td>0.0</td>\n",
       "      <td>1.0</td>\n",
       "      <td>0.0</td>\n",
       "      <td>0.0</td>\n",
       "      <td>0.0</td>\n",
       "      <td>0.0</td>\n",
       "      <td>0.0</td>\n",
       "      <td>0.0</td>\n",
       "      <td>0.0</td>\n",
       "      <td>0.0</td>\n",
       "      <td>1.0</td>\n",
       "      <td>0.0</td>\n",
       "      <td>0.0</td>\n",
       "      <td>1.0</td>\n",
       "    </tr>\n",
       "    <tr>\n",
       "      <th>4</th>\n",
       "      <td>3</td>\n",
       "      <td>22.0</td>\n",
       "      <td>1</td>\n",
       "      <td>1</td>\n",
       "      <td>12.2875</td>\n",
       "      <td>1.0</td>\n",
       "      <td>0.0</td>\n",
       "      <td>0.0</td>\n",
       "      <td>0.0</td>\n",
       "      <td>0.0</td>\n",
       "      <td>0.0</td>\n",
       "      <td>0.0</td>\n",
       "      <td>0.0</td>\n",
       "      <td>0.0</td>\n",
       "      <td>0.0</td>\n",
       "      <td>1.0</td>\n",
       "      <td>0.0</td>\n",
       "      <td>0.0</td>\n",
       "      <td>1.0</td>\n",
       "    </tr>\n",
       "  </tbody>\n",
       "</table>\n",
       "</div>"
      ],
      "text/plain": [
       "   Pclass   Age  SibSp  Parch     Fare  Sex_female  Sex_male  Cabin_A  \\\n",
       "0       3  34.5      0      0   7.8292         0.0       1.0      0.0   \n",
       "1       3  47.0      1      0   7.0000         1.0       0.0      0.0   \n",
       "2       2  62.0      0      0   9.6875         0.0       1.0      0.0   \n",
       "3       3  27.0      0      0   8.6625         0.0       1.0      0.0   \n",
       "4       3  22.0      1      1  12.2875         1.0       0.0      0.0   \n",
       "\n",
       "   Cabin_B  Cabin_C  Cabin_D  Cabin_E  Cabin_F  Cabin_G  Cabin_T  \\\n",
       "0      0.0      0.0      0.0      0.0      0.0      0.0      0.0   \n",
       "1      0.0      0.0      0.0      0.0      0.0      0.0      0.0   \n",
       "2      0.0      0.0      0.0      0.0      0.0      0.0      0.0   \n",
       "3      0.0      0.0      0.0      0.0      0.0      0.0      0.0   \n",
       "4      0.0      0.0      0.0      0.0      0.0      0.0      0.0   \n",
       "\n",
       "   Cabin_no_data  Embarked_C  Embarked_Q  Embarked_S  \n",
       "0            1.0         0.0         1.0         0.0  \n",
       "1            1.0         0.0         0.0         1.0  \n",
       "2            1.0         0.0         1.0         0.0  \n",
       "3            1.0         0.0         0.0         1.0  \n",
       "4            1.0         0.0         0.0         1.0  "
      ]
     },
     "execution_count": 31,
     "metadata": {},
     "output_type": "execute_result"
    }
   ],
   "source": [
    "df_test.head()"
   ]
  },
  {
   "cell_type": "code",
   "execution_count": 32,
   "metadata": {},
   "outputs": [],
   "source": [
    "features = df.columns.tolist()\n",
    "features.remove(target)\n",
    "\n",
    "y_train = df[target]\n",
    "X_train = df[features]\n",
    "X_test = df_test"
   ]
  },
  {
   "cell_type": "markdown",
   "metadata": {},
   "source": [
    "## ROC CURVE"
   ]
  },
  {
   "cell_type": "code",
   "execution_count": 48,
   "metadata": {},
   "outputs": [],
   "source": [
    "def plotROCs(results):\n",
    "    ''' Function for drawing a series of ROC curve results for \n",
    "    individual experiments\n",
    "     results - results list as 3 element tuples \n",
    "     (true, pred, label)\n",
    "    '''\n",
    "    \n",
    "    # Determining the size of the drawing\n",
    "    fig, ax = plt.subplots(figsize=(10,9))\n",
    "        \n",
    "    for true, pred, label in results:\n",
    "        \n",
    "        # Calculation of the points needed to draw the ROC curve\n",
    "        # the roc_curve function concludes three data series, fpr, \n",
    "        #tpr, and cutoff levels\n",
    "        fpr, tpr, thresholds = roc_curve(true, pred)\n",
    "        \n",
    "        # We calculate the area under the curve\n",
    "        rocScore = roc_auc_score(true, pred)\n",
    "        rocScore = round(rocScore, 3)\n",
    "        \n",
    "\n",
    "        # curve thickness\n",
    "        lw = 2\n",
    "\n",
    "        # We draw the ROC curve\n",
    "        ax.plot(fpr, tpr, lw=lw, label=f'{label}: {rocScore}')\n",
    "        \n",
    "    # We draw a 45 degree curve as a reference point\n",
    "    ax.plot([0, 1], [0, 1], color='navy', lw=lw, linestyle='--')\n",
    "    \n",
    "    # We add light margins to the range so that the curve \n",
    "    #does not coincide with the axes\n",
    "    ax.set_xlim([-0.01, 1.0])\n",
    "    ax.set_ylim([0.0, 1.01])\n",
    "    ax.set_xlabel('False Positive Rate')\n",
    "    ax.set_ylabel('True Positive Rate')\n",
    "    ax.set_title(f'Receiver operating characteristic - {rocScore}')\n",
    "    ax.legend(loc=\"lower right\")\n",
    "    #plt.savefig('ROC.png')\n",
    "    plt.show()"
   ]
  },
  {
   "cell_type": "markdown",
   "metadata": {},
   "source": [
    "## CROSS VALIDATION"
   ]
  },
  {
   "cell_type": "markdown",
   "metadata": {},
   "source": [
    "##### wrapper for cross validation"
   ]
  },
  {
   "cell_type": "code",
   "execution_count": 71,
   "metadata": {},
   "outputs": [],
   "source": [
    "def CVmodel(nFolds = 5, randomState=2020, debug=False, features=features, \n",
    "            model = SVC()):\n",
    "    \n",
    "    kf = KFold(n_splits=nFolds, shuffle=True, random_state=randomState)\n",
    "\n",
    "    # To save memory, the folder information is only line numbers\n",
    "    testResults = []\n",
    "    \n",
    "    # the results on the training set\n",
    "    trainResults = []\n",
    "    \n",
    "    # predictions for individual folds\n",
    "    predictions = []\n",
    "    \n",
    "    # the index in the original file\n",
    "    indices = []\n",
    "    \n",
    "    for train, test in kf.split(df.index.values):\n",
    "        \n",
    "        if debug:\n",
    "            print(model)\n",
    "       \n",
    "        model.fit(df.iloc[train][features], df.iloc[train][target])\n",
    "        \n",
    "        predsTrain = model.predict_proba(df.iloc[train][features])[:,1]\n",
    "        preds = model.predict_proba(df.iloc[test][features])[:,1]\n",
    "        \n",
    "        # information about predictions for this fold\n",
    "        predictions.append(preds.tolist().copy())\n",
    "        \n",
    "        # indexed in the original data frame\n",
    "        indices.append(df.iloc[test].index.tolist().copy())\n",
    "        \n",
    "        # The fit is counted using the ROC-AUC metric\n",
    "        trainScore = roc_auc_score(df[target].iloc[train], predsTrain)\n",
    "        testScore = roc_auc_score(df[target].iloc[test], preds)\n",
    "        \n",
    "        # Saving the results to the list \n",
    "        trainResults.append(trainScore)\n",
    "        testResults.append(testScore)\n",
    "\n",
    "        \n",
    "        # Information about each folder together with training results\n",
    "        #can be optionally displayed in the process\n",
    "        if debug:\n",
    "            print(\"Train AUC:\", trainScore,\n",
    "                  \"Valid AUC:\", testScore)\n",
    "    \n",
    "        \n",
    "    return trainResults, testResults, predictions, indices"
   ]
  },
  {
   "cell_type": "code",
   "execution_count": 74,
   "metadata": {},
   "outputs": [],
   "source": [
    "def draw(models):\n",
    "    res2plot = []\n",
    "    true = (df[target]==1)\n",
    "    for result in models:\n",
    "        pred = pd.Series(sum(result[\"predictions\"], []), \n",
    "                     index=sum(result[\"indices\"], [])).sort_index()\n",
    "        res2plot.append((true, pred, result[\"name\"]))\n",
    "\n",
    "    # We call the drawing function\n",
    "    plotROCs(res2plot)"
   ]
  },
  {
   "cell_type": "markdown",
   "metadata": {},
   "source": [
    "## GridSearchCV"
   ]
  },
  {
   "cell_type": "code",
   "execution_count": 34,
   "metadata": {},
   "outputs": [
    {
     "ename": "SyntaxError",
     "evalue": "invalid syntax (<ipython-input-34-b101ee6bde6f>, line 1)",
     "output_type": "error",
     "traceback": [
      "\u001b[0;36m  File \u001b[0;32m\"<ipython-input-34-b101ee6bde6f>\"\u001b[0;36m, line \u001b[0;32m1\u001b[0m\n\u001b[0;31m    def GridSearchCV:\u001b[0m\n\u001b[0m                    ^\u001b[0m\n\u001b[0;31mSyntaxError\u001b[0m\u001b[0;31m:\u001b[0m invalid syntax\n"
     ]
    }
   ],
   "source": [
    "def GridSearchCV:\n",
    "    Xtrain, Xtest, ytrain, ytest = train_test_split(X_train, y_train, test_size=0.5, random_state=0)\n",
    "\n",
    "    # param_grid = {\n",
    "    #     'n_estimators': [50, 100, 200, 500],\n",
    "    #     'max_depth': [ 14 ,  16 ,  18 ,  20 ,  22 ],\n",
    "    #     'max_features': [2,  8 ,  10 ,  12 ,  16 ,  18],\n",
    "    #     'min_samples_split': [2, 4, 8, 10]\n",
    "    # }\n",
    "\n",
    "    param_grid = { 'base_estimator__max_depth': [2, 4, 6, 10, 16, 20],\n",
    "                  'base_estimator__n_estimators': [50, 100, 200, 500],\n",
    "                  'base_estimator__max_features': [2,  8 ,  10 ,  12 ,  16 ,  18],\n",
    "                  'base_estimator__min_samples_split': [2, 4, 8, 10]}\n",
    "\n",
    "    scores = ['precision', 'recall']\n",
    "\n",
    "    for score in scores:\n",
    "        print(\"# Tuning hyper-parameters for %s\" % score)\n",
    "        print()\n",
    "\n",
    "        calibrated_forest = CalibratedClassifierCV(base_estimator=RandomForestClassifier())\n",
    "\n",
    "        clf = GridSearchCV(calibrated_forest, param_grid, scoring='%s_macro' % score)\n",
    "\n",
    "        clf.fit(Xtrain, ytrain)\n",
    "\n",
    "        print(\"Best parameters set found on development set:\")\n",
    "        print()\n",
    "        print(clf.best_params_)\n",
    "        print()\n",
    "    #     print(\"Grid scores on development set:\")\n",
    "    #     print()\n",
    "    #     means = clf.cv_results_['mean_test_score']\n",
    "    #     stds = clf.cv_results_['std_test_score']\n",
    "    #     for mean, std, params in zip(means, stds, clf.cv_results_['params']):\n",
    "    #         print(\"%0.3f (+/-%0.03f) for %r\"\n",
    "    #               % (mean, std * 2, params))\n",
    "    #     print()\n",
    "\n",
    "        print(\"Detailed classification report:\")\n",
    "        print()\n",
    "        print(\"The model is trained on the full development set.\")\n",
    "        print(\"The scores are computed on the full evaluation set.\")\n",
    "        print()\n",
    "        y_true, y_pred = ytest, clf.predict(Xtest)\n",
    "        print(classification_report(y_true, y_pred))\n",
    "        print()"
   ]
  },
  {
   "cell_type": "markdown",
   "metadata": {},
   "source": [
    "## RANDOM FOREST"
   ]
  },
  {
   "cell_type": "code",
   "execution_count": 72,
   "metadata": {},
   "outputs": [
    {
     "name": "stdout",
     "output_type": "stream",
     "text": [
      "RandomForestClassifier(n_jobs=-1, random_state=2020)\n",
      "Train AUC: 0.9985293128949846 Valid AUC: 0.845945945945946\n",
      "RandomForestClassifier(n_jobs=-1, random_state=2020)\n",
      "Train AUC: 0.9980559614383366 Valid AUC: 0.906925566343042\n",
      "RandomForestClassifier(n_jobs=-1, random_state=2020)\n",
      "Train AUC: 0.9982087029995775 Valid AUC: 0.8433704129906662\n",
      "RandomForestClassifier(n_jobs=-1, random_state=2020)\n",
      "Train AUC: 0.9974023022096667 Valid AUC: 0.8737980769230769\n",
      "RandomForestClassifier(n_jobs=-1, random_state=2020)\n",
      "Train AUC: 0.9981262229297251 Valid AUC: 0.8461174242424243\n",
      "0.863231485289031\n",
      "[0.845945945945946, 0.906925566343042, 0.8433704129906662, 0.8737980769230769, 0.8461174242424243]\n"
     ]
    }
   ],
   "source": [
    "rfc = RandomForestClassifier(random_state=2020, n_jobs=-1)\n",
    "trainResults, testResults, predictions, indices = CVmodel(debug=True, model=rfc)\n",
    "print(np.mean(testResults))\n",
    "print(testResults)"
   ]
  },
  {
   "cell_type": "markdown",
   "metadata": {},
   "source": [
    "You can see that the trees in the Random Forest were overfitted."
   ]
  },
  {
   "cell_type": "code",
   "execution_count": null,
   "metadata": {},
   "outputs": [
    {
     "name": "stdout",
     "output_type": "stream",
     "text": [
      "10 0.99644757824326 0.8420113816387781 0.15443619660448193\n",
      "25 0.997787110789546 0.8544187162294881 0.1433683945600579\n",
      "50 0.9980036232902438 0.8601691655896676 0.13783445770057623\n",
      "100 0.998064500494458 0.863231485289031 0.134833015205427\n",
      "200 0.9981892582222587 0.8645122145243812 0.13367704369787747\n"
     ]
    }
   ],
   "source": [
    "models = {}\n",
    "\n",
    "for k in [10, 25, 50, 100, 200, 500, 1000]:\n",
    "    \n",
    "    rfc = RandomForestClassifier(random_state=2020, n_jobs=-1, n_estimators=k)\n",
    "    trainResults, testResults, predictions, indices = CVmodel(model=rfc)\n",
    "    print(k, np.mean(trainResults), np.mean(testResults), np.mean(trainResults) \n",
    "          - np.mean(testResults))\n",
    "    name = 'rfc '+str(k)\n",
    "    models[name] = {\n",
    "        \"predictions\": predictions.copy(),\n",
    "        \"indices\": indices.copy(),\n",
    "    }\n",
    "    \n",
    "draw(models)"
   ]
  },
  {
   "cell_type": "code",
   "execution_count": 291,
   "metadata": {},
   "outputs": [
    {
     "name": "stdout",
     "output_type": "stream",
     "text": [
      "2 0.8598079236259025 0.8465027494600337 0.01330517416586885\n",
      "4 0.8882702398827724 0.8598773657963058 0.028392874086466624\n",
      "6 0.9252383236901671 0.8660958281121627 0.05914249557800444\n",
      "8 0.9589460800411581 0.8639930642167929 0.09495301582436522\n",
      "10 0.9791819368534208 0.8648906352422037 0.11429130161121714\n",
      "12 0.9901589623981591 0.8622099409897246 0.12794902140843456\n",
      "14 0.9956365177776162 0.8546962385528285 0.1409402792247877\n",
      "16 0.9975461068868012 0.8523630641292692 0.14518304275753202\n",
      "18 0.9980428461581239 0.8516906043128559 0.14635224184526796\n",
      "20 0.998161789769876 0.8492972603595493 0.14886452941032668\n"
     ]
    }
   ],
   "source": [
    "for k in range(2,22,2):\n",
    "    trainResults, testResults, predictions, indices = CVTestRFClass(n_estimators=100, max_depth=k)\n",
    "    print(k, np.mean(trainResults), np.mean(testResults), np.mean(trainResults) - np.mean(testResults))"
   ]
  },
  {
   "cell_type": "code",
   "execution_count": 292,
   "metadata": {},
   "outputs": [
    {
     "name": "stdout",
     "output_type": "stream",
     "text": [
      "2 0.9981048506322383 0.8501463599235054 0.1479584907087329\n",
      "4 0.998161789769876 0.8492972603595493 0.14886452941032668\n",
      "6 0.9981905185015089 0.8508913430251963 0.14729917547631255\n",
      "8 0.9982131698468878 0.8494579741261727 0.14875519572071505\n",
      "10 0.9982533631421223 0.8516466003388767 0.14660676280324558\n",
      "12 0.9982182013294055 0.8544312985418951 0.14378690278751038\n",
      "14 0.9982253103823832 0.854060834359659 0.1441644760227242\n",
      "16 0.9982296920859813 0.8534163159596515 0.14481337612632983\n",
      "18 0.9982028089196833 0.8502344891361062 0.14796831978357705\n"
     ]
    }
   ],
   "source": [
    "for k in range(2, len(features) + 1,2):\n",
    "    trainResults, testResults, predictions, indices = CVTestRFClass(n_estimators=100, max_depth=20,\n",
    "                                                                    max_features=k)\n",
    "    print(k, np.mean(trainResults), np.mean(testResults), np.mean(trainResults) - np.mean(testResults))"
   ]
  },
  {
   "cell_type": "code",
   "execution_count": 293,
   "metadata": {},
   "outputs": [
    {
     "name": "stdout",
     "output_type": "stream",
     "text": [
      "2 0.851633606575883\n",
      "4 0.8621892348303032\n",
      "6 0.8670826082625303\n",
      "8 0.8717337450650448\n",
      "10 0.8730181250227134\n",
      "15 0.8728056906128211\n",
      "20 0.8692169638414657\n",
      "30 0.8704045145472706\n"
     ]
    }
   ],
   "source": [
    "for k in [2, 4, 6, 8, 10, 15, 20, 30]:\n",
    "    trainResults, testResults, predictions, indices = CVTestRFClass(n_estimators=100, max_depth=20,\n",
    "                                                                    max_features=10,\n",
    "                                                                    min_samples_split=k)\n",
    "    print(k, np.mean(testResults))"
   ]
  },
  {
   "cell_type": "code",
   "execution_count": 294,
   "metadata": {},
   "outputs": [
    {
     "name": "stdout",
     "output_type": "stream",
     "text": [
      "0.8730181250227134\n"
     ]
    }
   ],
   "source": [
    "trainResults, testResults, predictions, indices = CVTestRFClass(n_estimators=100, max_depth=20,\n",
    "                                                                    max_features=10,\n",
    "                                                                    min_samples_split=10)\n",
    "print(np.mean(testResults))\n",
    "\n",
    "modelRF = {\n",
    "    \"name\":\"model_rf\",\n",
    "    \"description\":\"Model RF\",\n",
    "    \"specification\":'n_estimators=100, max_depth=20, max_features=10, min_samples_split=10',\n",
    "    \"trainResults\":trainResults.copy(),\n",
    "    \"testResults\":testResults.copy(),\n",
    "    \"predictions\":predictions.copy(),\n",
    "    \"indices\":indices.copy(),\n",
    "}"
   ]
  },
  {
   "cell_type": "code",
   "execution_count": 295,
   "metadata": {},
   "outputs": [],
   "source": [
    "# open the file for binary writing using \"with\"\n",
    "with open(\"model_RF.p\", \"wb\") as fp:\n",
    "    # Zapisujemy obiekt do wskaźnika pliku\n",
    "    pickle.dump(modelRF, fp)"
   ]
  },
  {
   "cell_type": "markdown",
   "metadata": {},
   "source": []
  },
  {
   "cell_type": "markdown",
   "metadata": {},
   "source": [
    "{'base_estimator__max_depth': 6, 'base_estimator__max_features': 8, 'base_estimator__min_samples_split': 4, 'base_estimator__n_estimators': 500}"
   ]
  },
  {
   "cell_type": "markdown",
   "metadata": {},
   "source": [
    "#### Tuning hyper-parameters for precision\n",
    "Detailed classification report:\n",
    "\n",
    "The model is trained on the full development set.\n",
    "The scores are computed on the full evaluation set.\n",
    "\n",
    "              precision |   recall  f1-score   support\n",
    "     ------------------------------------------------\n",
    "           0 |    0.81  |    0.91      0.86       275\n",
    "           1 |    0.82  |    0.66      0.73       170\n",
    "    --------------------------------------------------\n",
    "    accuracy |     -    |     -       0.82       445\n",
    "    macro avg|    0.82  |    0.79     0.80       445 \n",
    "    weighted avg  0.82  |    0.82     0.81       445\n",
    " "
   ]
  },
  {
   "cell_type": "markdown",
   "metadata": {},
   "source": [
    "#### Tuning hyper-parameters for recall\n",
    "Detailed classification report:\n",
    "\n",
    "The model is trained on the full development set.\n",
    "The scores are computed on the full evaluation set.\n",
    "\n",
    "              precision    recall  f1-score   support\n",
    "     ------------------------------------------------\n",
    "           0       0.82      0.90      0.86       275\n",
    "           1       0.81      0.68      0.74       170\n",
    "     ------------------------------------------------\n",
    "    accuracy                           0.82       445\n",
    "    \n",
    "    macro avg     0.81      0.79      0.80       445\n",
    "    weighted avg  0.82      0.82      0.81       445"
   ]
  },
  {
   "cell_type": "code",
   "execution_count": 299,
   "metadata": {},
   "outputs": [
    {
     "name": "stdout",
     "output_type": "stream",
     "text": [
      "0.8658560625085311\n"
     ]
    }
   ],
   "source": [
    "trainResults, testResults, predictions, indices = CVTestRFClass(n_estimators=500, max_depth=6,\n",
    "                                                                    max_features=8,\n",
    "                                                                    min_samples_split=4)\n",
    "print(np.mean(testResults))\n",
    "\n",
    "modelRF_GSCV = {\n",
    "    \"name\":\"model_RF_GSCV\",\n",
    "    \"description\":\"Model RF with GridSearchCV\",\n",
    "    \"specification\":'n_estimators=500, max_depth=6, max_features=8, min_samples_split=4',\n",
    "    \"trainResults\":trainResults.copy(),\n",
    "    \"testResults\":testResults.copy(),\n",
    "    \"predictions\":predictions.copy(),\n",
    "    \"indices\":indices.copy(),\n",
    "}\n"
   ]
  },
  {
   "cell_type": "code",
   "execution_count": 300,
   "metadata": {},
   "outputs": [],
   "source": [
    "# open the file for binary writing using \"with\"\n",
    "with open(\"model_RF_GSCV.p\", \"wb\") as fp:\n",
    "    # Zapisujemy obiekt do wskaźnika pliku\n",
    "    pickle.dump(modelRF_GSCV, fp)"
   ]
  },
  {
   "cell_type": "markdown",
   "metadata": {},
   "source": [
    "## NORMALIZATION"
   ]
  },
  {
   "cell_type": "code",
   "execution_count": 248,
   "metadata": {},
   "outputs": [
    {
     "data": {
      "text/html": [
       "<div>\n",
       "<style scoped>\n",
       "    .dataframe tbody tr th:only-of-type {\n",
       "        vertical-align: middle;\n",
       "    }\n",
       "\n",
       "    .dataframe tbody tr th {\n",
       "        vertical-align: top;\n",
       "    }\n",
       "\n",
       "    .dataframe thead th {\n",
       "        text-align: right;\n",
       "    }\n",
       "</style>\n",
       "<table border=\"1\" class=\"dataframe\">\n",
       "  <thead>\n",
       "    <tr style=\"text-align: right;\">\n",
       "      <th></th>\n",
       "      <th>Pclass</th>\n",
       "      <th>Age</th>\n",
       "      <th>SibSp</th>\n",
       "      <th>Parch</th>\n",
       "      <th>Fare</th>\n",
       "      <th>Sex_female</th>\n",
       "      <th>Sex_male</th>\n",
       "      <th>Cabin_A</th>\n",
       "      <th>Cabin_B</th>\n",
       "      <th>Cabin_C</th>\n",
       "      <th>Cabin_D</th>\n",
       "      <th>Cabin_E</th>\n",
       "      <th>Cabin_F</th>\n",
       "      <th>Cabin_G</th>\n",
       "      <th>Cabin_T</th>\n",
       "      <th>Cabin_no_data</th>\n",
       "      <th>Embarked_C</th>\n",
       "      <th>Embarked_Q</th>\n",
       "      <th>Embarked_S</th>\n",
       "      <th>Survived</th>\n",
       "    </tr>\n",
       "  </thead>\n",
       "  <tbody>\n",
       "    <tr>\n",
       "      <th>0</th>\n",
       "      <td>0.827377</td>\n",
       "      <td>-0.592481</td>\n",
       "      <td>0.432793</td>\n",
       "      <td>-0.473674</td>\n",
       "      <td>-0.502445</td>\n",
       "      <td>0.0</td>\n",
       "      <td>1.0</td>\n",
       "      <td>0.0</td>\n",
       "      <td>0.0</td>\n",
       "      <td>0.0</td>\n",
       "      <td>0.0</td>\n",
       "      <td>0.0</td>\n",
       "      <td>0.0</td>\n",
       "      <td>0.0</td>\n",
       "      <td>0.0</td>\n",
       "      <td>1.0</td>\n",
       "      <td>0.0</td>\n",
       "      <td>0.0</td>\n",
       "      <td>1.0</td>\n",
       "      <td>0</td>\n",
       "    </tr>\n",
       "    <tr>\n",
       "      <th>1</th>\n",
       "      <td>-1.566107</td>\n",
       "      <td>0.638789</td>\n",
       "      <td>0.432793</td>\n",
       "      <td>-0.473674</td>\n",
       "      <td>0.786845</td>\n",
       "      <td>1.0</td>\n",
       "      <td>0.0</td>\n",
       "      <td>0.0</td>\n",
       "      <td>0.0</td>\n",
       "      <td>1.0</td>\n",
       "      <td>0.0</td>\n",
       "      <td>0.0</td>\n",
       "      <td>0.0</td>\n",
       "      <td>0.0</td>\n",
       "      <td>0.0</td>\n",
       "      <td>0.0</td>\n",
       "      <td>1.0</td>\n",
       "      <td>0.0</td>\n",
       "      <td>0.0</td>\n",
       "      <td>1</td>\n",
       "    </tr>\n",
       "    <tr>\n",
       "      <th>2</th>\n",
       "      <td>0.827377</td>\n",
       "      <td>-0.284663</td>\n",
       "      <td>-0.474545</td>\n",
       "      <td>-0.473674</td>\n",
       "      <td>-0.488854</td>\n",
       "      <td>1.0</td>\n",
       "      <td>0.0</td>\n",
       "      <td>0.0</td>\n",
       "      <td>0.0</td>\n",
       "      <td>0.0</td>\n",
       "      <td>0.0</td>\n",
       "      <td>0.0</td>\n",
       "      <td>0.0</td>\n",
       "      <td>0.0</td>\n",
       "      <td>0.0</td>\n",
       "      <td>1.0</td>\n",
       "      <td>0.0</td>\n",
       "      <td>0.0</td>\n",
       "      <td>1.0</td>\n",
       "      <td>1</td>\n",
       "    </tr>\n",
       "    <tr>\n",
       "      <th>3</th>\n",
       "      <td>-1.566107</td>\n",
       "      <td>0.407926</td>\n",
       "      <td>0.432793</td>\n",
       "      <td>-0.473674</td>\n",
       "      <td>0.420730</td>\n",
       "      <td>1.0</td>\n",
       "      <td>0.0</td>\n",
       "      <td>0.0</td>\n",
       "      <td>0.0</td>\n",
       "      <td>1.0</td>\n",
       "      <td>0.0</td>\n",
       "      <td>0.0</td>\n",
       "      <td>0.0</td>\n",
       "      <td>0.0</td>\n",
       "      <td>0.0</td>\n",
       "      <td>0.0</td>\n",
       "      <td>0.0</td>\n",
       "      <td>0.0</td>\n",
       "      <td>1.0</td>\n",
       "      <td>1</td>\n",
       "    </tr>\n",
       "    <tr>\n",
       "      <th>4</th>\n",
       "      <td>0.827377</td>\n",
       "      <td>0.407926</td>\n",
       "      <td>-0.474545</td>\n",
       "      <td>-0.473674</td>\n",
       "      <td>-0.486337</td>\n",
       "      <td>0.0</td>\n",
       "      <td>1.0</td>\n",
       "      <td>0.0</td>\n",
       "      <td>0.0</td>\n",
       "      <td>0.0</td>\n",
       "      <td>0.0</td>\n",
       "      <td>0.0</td>\n",
       "      <td>0.0</td>\n",
       "      <td>0.0</td>\n",
       "      <td>0.0</td>\n",
       "      <td>1.0</td>\n",
       "      <td>0.0</td>\n",
       "      <td>0.0</td>\n",
       "      <td>1.0</td>\n",
       "      <td>0</td>\n",
       "    </tr>\n",
       "  </tbody>\n",
       "</table>\n",
       "</div>"
      ],
      "text/plain": [
       "     Pclass       Age     SibSp     Parch      Fare  Sex_female  Sex_male  \\\n",
       "0  0.827377 -0.592481  0.432793 -0.473674 -0.502445         0.0       1.0   \n",
       "1 -1.566107  0.638789  0.432793 -0.473674  0.786845         1.0       0.0   \n",
       "2  0.827377 -0.284663 -0.474545 -0.473674 -0.488854         1.0       0.0   \n",
       "3 -1.566107  0.407926  0.432793 -0.473674  0.420730         1.0       0.0   \n",
       "4  0.827377  0.407926 -0.474545 -0.473674 -0.486337         0.0       1.0   \n",
       "\n",
       "   Cabin_A  Cabin_B  Cabin_C  Cabin_D  Cabin_E  Cabin_F  Cabin_G  Cabin_T  \\\n",
       "0      0.0      0.0      0.0      0.0      0.0      0.0      0.0      0.0   \n",
       "1      0.0      0.0      1.0      0.0      0.0      0.0      0.0      0.0   \n",
       "2      0.0      0.0      0.0      0.0      0.0      0.0      0.0      0.0   \n",
       "3      0.0      0.0      1.0      0.0      0.0      0.0      0.0      0.0   \n",
       "4      0.0      0.0      0.0      0.0      0.0      0.0      0.0      0.0   \n",
       "\n",
       "   Cabin_no_data  Embarked_C  Embarked_Q  Embarked_S  Survived  \n",
       "0            1.0         0.0         0.0         1.0         0  \n",
       "1            0.0         1.0         0.0         0.0         1  \n",
       "2            1.0         0.0         0.0         1.0         1  \n",
       "3            0.0         0.0         0.0         1.0         1  \n",
       "4            1.0         0.0         0.0         1.0         0  "
      ]
     },
     "execution_count": 248,
     "metadata": {},
     "output_type": "execute_result"
    }
   ],
   "source": [
    "#Select numerical columns which needs to be normalized\n",
    "train_norm = df[numFeatures]\n",
    "test_norm = df[numFeatures]\n",
    " \n",
    "std_scale = preprocessing.StandardScaler().fit(train_norm)\n",
    "\n",
    "# Normalize TRANING Data\n",
    "x_train_norm = std_scale.transform(train_norm)\n",
    "#Converting numpy array to dataframe\n",
    "training_norm_col = pd.DataFrame(x_train_norm, index=train_norm.index, \n",
    "                                 columns=train_norm.columns) \n",
    "#Update\n",
    "df[numFeatures]=training_norm_col\n",
    "\n",
    "\n",
    "# Normalize TESTING Data by using mean and SD of training set\n",
    "x_test_norm = std_scale.transform(test_norm)\n",
    "#Converting numpy array to dataframe\n",
    "testing_norm_col = pd.DataFrame(x_test_norm, index=test_norm.index, \n",
    "                                columns=test_norm.columns) \n",
    "#Update\n",
    "df[numFeatures] = testing_norm_col\n",
    "df.head()"
   ]
  },
  {
   "cell_type": "markdown",
   "metadata": {},
   "source": [
    "## KNN"
   ]
  },
  {
   "cell_type": "code",
   "execution_count": 304,
   "metadata": {},
   "outputs": [
    {
     "name": "stdout",
     "output_type": "stream",
     "text": [
      "1 0.7353362359292475\n",
      "3 0.8157333278535914\n",
      "5 0.8434256212625355\n",
      "10 0.8515160257794749\n",
      "15 0.8538102946777452\n",
      "30 0.8521158177642342\n",
      "50 0.8425571577657571\n",
      "100 0.8251543430063675\n",
      "150 0.8043615758149103\n",
      "200 0.7895345141010265\n"
     ]
    }
   ],
   "source": [
    "# Ta pętla przechodzi po wartościach k i dla każdej wykonuje walidację krzyżową.\n",
    "for k in [1, 3, 5, 10, 15, 30, 50, 100, 150, 200]:\n",
    "    trainResults, testResults, predictions, indices = CVTestKNN(n_neighbors=k, \n",
    "                                                                n_jobs=-1, p=2)\n",
    "    print(k, np.mean(testResults))"
   ]
  },
  {
   "cell_type": "code",
   "execution_count": 305,
   "metadata": {},
   "outputs": [
    {
     "name": "stdout",
     "output_type": "stream",
     "text": [
      "5 0.8434256212625355\n",
      "10 0.8515160257794749\n",
      "12 0.8548284882139381\n",
      "13 0.8554048360949154\n",
      "15 0.8538102946777452\n",
      "16 0.8519910671203131\n",
      "18 0.8539869912233862\n",
      "20 0.8514345694427348\n"
     ]
    }
   ],
   "source": [
    "for k in [5, 10, 12, 13, 15, 16, 18, 20]:\n",
    "    trainResults, testResults, predictions, indices = CVTestKNN(n_neighbors=k, n_jobs=-1, p=2)\n",
    "    print(k, np.mean(testResults))"
   ]
  },
  {
   "cell_type": "markdown",
   "metadata": {},
   "source": [
    "In the next step, it is worth checking whether the Manhattan measure will give better results."
   ]
  },
  {
   "cell_type": "code",
   "execution_count": 306,
   "metadata": {},
   "outputs": [
    {
     "name": "stdout",
     "output_type": "stream",
     "text": [
      "5 0.8460583268978186\n",
      "10 0.8534389350164029\n",
      "12 0.856141964844866\n",
      "13 0.8571959481845098\n",
      "15 0.8557328855961888\n",
      "16 0.8540694941210785\n",
      "18 0.8525178462893239\n",
      "20 0.8517772136586569\n"
     ]
    }
   ],
   "source": [
    "for k in [5, 10, 12, 13, 15, 16, 18, 20]:\n",
    "    trainResults, testResults, predictions, indices = CVTestKNN(n_neighbors=k, n_jobs=-1, p=1)\n",
    "    print(k, np.mean(testResults))"
   ]
  },
  {
   "cell_type": "code",
   "execution_count": 307,
   "metadata": {},
   "outputs": [
    {
     "name": "stdout",
     "output_type": "stream",
     "text": [
      "Pclass 0.6633054899970555\n",
      "Age 0.5546516150410641\n",
      "SibSp 0.513334751338469\n",
      "Parch 0.5233894466493758\n",
      "Fare 0.6911659137334258\n",
      "Sex_female 0.7626929173155567\n",
      "Sex_male 0.7626929173155567\n",
      "Cabin_A 0.504802066331276\n",
      "Cabin_B 0.5370214804781297\n",
      "Cabin_C 0.5180834416681207\n",
      "Cabin_D 0.5284335387080347\n",
      "Cabin_E 0.5272357705691039\n",
      "Cabin_F 0.5075751461876891\n",
      "Cabin_G 0.5016139857806524\n",
      "Cabin_T 0.5\n",
      "Cabin_no_data 0.632653510111087\n",
      "Embarked_C 0.5681833124077216\n",
      "Embarked_Q 0.5029634295217575\n",
      "Embarked_S 0.565219882885964\n"
     ]
    }
   ],
   "source": [
    "selectedFeatures = []\n",
    "\n",
    "results = []\n",
    "for feature in features:\n",
    "    \n",
    "    featuresCandidates = selectedFeatures.copy()\n",
    "   \n",
    "    featuresCandidates.append(feature)\n",
    "    \n",
    "    trainResults, testResults, predictions, indices = CVTestKNN(n_neighbors=13, \n",
    "                                                                n_jobs=-1, p=1, \n",
    "                                                                features=featuresCandidates)\n",
    "    print(feature, np.mean(testResults))\n",
    "   \n",
    "    results.append((feature, np.mean(testResults)))"
   ]
  },
  {
   "cell_type": "code",
   "execution_count": 308,
   "metadata": {},
   "outputs": [
    {
     "data": {
      "text/plain": [
       "[('Sex_female', 0.7626929173155567),\n",
       " ('Sex_male', 0.7626929173155567),\n",
       " ('Fare', 0.6911659137334258),\n",
       " ('Pclass', 0.6633054899970555),\n",
       " ('Cabin_no_data', 0.632653510111087),\n",
       " ('Embarked_C', 0.5681833124077216),\n",
       " ('Embarked_S', 0.565219882885964),\n",
       " ('Age', 0.5546516150410641),\n",
       " ('Cabin_B', 0.5370214804781297),\n",
       " ('Cabin_D', 0.5284335387080347),\n",
       " ('Cabin_E', 0.5272357705691039),\n",
       " ('Parch', 0.5233894466493758),\n",
       " ('Cabin_C', 0.5180834416681207),\n",
       " ('SibSp', 0.513334751338469),\n",
       " ('Cabin_F', 0.5075751461876891),\n",
       " ('Cabin_A', 0.504802066331276),\n",
       " ('Embarked_Q', 0.5029634295217575),\n",
       " ('Cabin_G', 0.5016139857806524),\n",
       " ('Cabin_T', 0.5)]"
      ]
     },
     "execution_count": 308,
     "metadata": {},
     "output_type": "execute_result"
    }
   ],
   "source": [
    "results = sorted(results, key=lambda x: x[1], reverse=True)\n",
    "results"
   ]
  },
  {
   "cell_type": "code",
   "execution_count": 309,
   "metadata": {},
   "outputs": [
    {
     "name": "stdout",
     "output_type": "stream",
     "text": [
      "['Sex_female', 'Sex_male', 'Fare', 'Pclass', 'Cabin_no_data', 'Embarked_C', 'Embarked_S', 'Age', 'Cabin_B', 'Cabin_D', 'Cabin_E', 'Parch', 'Cabin_C', 'SibSp', 'Cabin_F', 'Cabin_A', 'Embarked_Q', 'Cabin_G']\n"
     ]
    }
   ],
   "source": [
    "featuresSet2 = [x for x,y in results if y > 0.5]\n",
    "print(featuresSet2)"
   ]
  },
  {
   "cell_type": "code",
   "execution_count": 310,
   "metadata": {},
   "outputs": [
    {
     "name": "stdout",
     "output_type": "stream",
     "text": [
      "0.8568628239691366\n"
     ]
    }
   ],
   "source": [
    "trainResults, testResults, predictions, indices = CVTestKNN(n_neighbors=13, \n",
    "                                                            n_jobs=-1, p=1, \n",
    "                                                            features=featuresSet2)\n",
    "print(np.mean(testResults))"
   ]
  },
  {
   "cell_type": "code",
   "execution_count": 311,
   "metadata": {},
   "outputs": [
    {
     "name": "stdout",
     "output_type": "stream",
     "text": [
      "['Sex_female', 'Sex_male', 'Fare', 'Pclass', 'Cabin_no_data']\n"
     ]
    }
   ],
   "source": [
    "featuresSet3 = [x for x,y in results if y > 0.6]\n",
    "print(featuresSet3)"
   ]
  },
  {
   "cell_type": "code",
   "execution_count": 312,
   "metadata": {},
   "outputs": [
    {
     "name": "stdout",
     "output_type": "stream",
     "text": [
      "0.8370105398383118\n"
     ]
    }
   ],
   "source": [
    "trainResults, testResults, predictions, indices = CVTestKNN(n_neighbors=13, \n",
    "                                                            n_jobs=-1, p=1, \n",
    "                                                            features=featuresSet3)\n",
    "print(np.mean(testResults))"
   ]
  },
  {
   "cell_type": "code",
   "execution_count": 313,
   "metadata": {},
   "outputs": [
    {
     "name": "stdout",
     "output_type": "stream",
     "text": [
      "['Sex_female', 'Sex_male']\n",
      "0.7626929173155567\n"
     ]
    }
   ],
   "source": [
    "featuresSet4 = [x for x,y in results if y > 0.7]\n",
    "print(featuresSet4)\n",
    "trainResults, testResults, predictions, indices = CVTestKNN(n_neighbors=13, \n",
    "                                                            n_jobs=-1, p=1, \n",
    "                                                            features=featuresSet4)\n",
    "print(np.mean(testResults))"
   ]
  },
  {
   "cell_type": "code",
   "execution_count": 314,
   "metadata": {},
   "outputs": [
    {
     "name": "stdout",
     "output_type": "stream",
     "text": [
      "['Sex_female', 'Sex_male', 'Fare', 'Pclass', 'Cabin_no_data', 'Embarked_C', 'Embarked_S', 'Age']\n",
      "0.8514519288468023\n"
     ]
    }
   ],
   "source": [
    "featuresSet5 = [x for x,y in results if y > 0.55]\n",
    "print(featuresSet5)\n",
    "trainResults, testResults, predictions, indices = CVTestKNN(n_neighbors=13, \n",
    "                                                            n_jobs=-1, p=1, \n",
    "                                                            features=featuresSet5)\n",
    "print(np.mean(testResults))"
   ]
  },
  {
   "cell_type": "code",
   "execution_count": 315,
   "metadata": {},
   "outputs": [
    {
     "name": "stdout",
     "output_type": "stream",
     "text": [
      "['Sex_female', 'Sex_male', 'Fare', 'Pclass', 'Cabin_no_data', 'Embarked_C', 'Embarked_S', 'Age', 'Cabin_B']\n",
      "0.8494799668527164\n"
     ]
    }
   ],
   "source": [
    "featuresSet6 = [x for x,y in results if y > 0.53]\n",
    "print(featuresSet6)\n",
    "trainResults, testResults, predictions, indices = CVTestKNN(n_neighbors=13, \n",
    "                                                            n_jobs=-1, p=1, \n",
    "                                                            features=featuresSet6)\n",
    "print(np.mean(testResults))"
   ]
  },
  {
   "cell_type": "code",
   "execution_count": 316,
   "metadata": {},
   "outputs": [
    {
     "name": "stdout",
     "output_type": "stream",
     "text": [
      "['Sex_female', 'Sex_male', 'Fare', 'Pclass', 'Cabin_no_data', 'Embarked_C', 'Embarked_S', 'Age', 'Cabin_B', 'Cabin_D', 'Cabin_E', 'Parch']\n",
      "0.8506743800890663\n"
     ]
    }
   ],
   "source": [
    "featuresSet7 = [x for x,y in results if y > 0.52]\n",
    "print(featuresSet7)\n",
    "trainResults, testResults, predictions, indices = CVTestKNN(n_neighbors=13, \n",
    "                                                            n_jobs=-1, p=1, \n",
    "                                                            features=featuresSet7)\n",
    "print(np.mean(testResults))"
   ]
  },
  {
   "cell_type": "markdown",
   "metadata": {},
   "source": [
    "##### FEATURE GENERATION"
   ]
  },
  {
   "cell_type": "code",
   "execution_count": 317,
   "metadata": {},
   "outputs": [],
   "source": [
    "dfCopy = df.copy()"
   ]
  },
  {
   "cell_type": "code",
   "execution_count": 318,
   "metadata": {},
   "outputs": [
    {
     "name": "stdout",
     "output_type": "stream",
     "text": [
      "Sex_female 0.8600430123622769\n",
      "Sex_male 0.8600300185992831\n",
      "Fare 0.855736942143786\n",
      "Pclass 0.8546862107614246\n",
      "Cabin_no_data 0.8547280545517095\n",
      "Embarked_C 0.8571474554269043\n",
      "Embarked_S 0.8562138723017634\n",
      "Age 0.8559763621992396\n",
      "Cabin_B 0.8576204235813304\n",
      "Cabin_D 0.8567190700186285\n",
      "Cabin_E 0.8584426732804312\n",
      "Parch 0.8494491777699096\n",
      "Cabin_C 0.8538409342289957\n",
      "SibSp 0.8546224987998663\n",
      "Cabin_F 0.856383940658984\n",
      "Cabin_A 0.8580555788947853\n",
      "Embarked_Q 0.856234086060117\n",
      "Cabin_G 0.8569358190200077\n"
     ]
    }
   ],
   "source": [
    "# Then we will add each variable as a candidate.\n",
    "results2 = []\n",
    "for feature in featuresSet2:\n",
    "    df = dfCopy.copy()\n",
    "    # We double the variable\n",
    "    df[feature]=df[feature]*2\n",
    "#    validation\n",
    "    trainResults, testResults, predictions, indices = CVTestKNN(n_neighbors=13, \n",
    "                                                                n_jobs=-1, p=1, \n",
    "                                                                features=featuresSet2)\n",
    "    print(feature, np.mean(testResults))\n",
    "    results2.append((feature, np.mean(testResults)))"
   ]
  },
  {
   "cell_type": "code",
   "execution_count": 319,
   "metadata": {},
   "outputs": [
    {
     "data": {
      "text/plain": [
       "[('Sex_female', 0.8600430123622769),\n",
       " ('Sex_male', 0.8600300185992831),\n",
       " ('Cabin_E', 0.8584426732804312),\n",
       " ('Cabin_A', 0.8580555788947853),\n",
       " ('Cabin_B', 0.8576204235813304),\n",
       " ('Embarked_C', 0.8571474554269043),\n",
       " ('Cabin_G', 0.8569358190200077),\n",
       " ('Cabin_D', 0.8567190700186285),\n",
       " ('Cabin_F', 0.856383940658984),\n",
       " ('Embarked_Q', 0.856234086060117),\n",
       " ('Embarked_S', 0.8562138723017634),\n",
       " ('Age', 0.8559763621992396),\n",
       " ('Fare', 0.855736942143786),\n",
       " ('Cabin_no_data', 0.8547280545517095),\n",
       " ('Pclass', 0.8546862107614246),\n",
       " ('SibSp', 0.8546224987998663),\n",
       " ('Cabin_C', 0.8538409342289957),\n",
       " ('Parch', 0.8494491777699096)]"
      ]
     },
     "execution_count": 319,
     "metadata": {},
     "output_type": "execute_result"
    }
   ],
   "source": [
    "# Sorting the results\n",
    "results2 = sorted(results2, key=lambda x: x[1], reverse=True)\n",
    "results2"
   ]
  },
  {
   "cell_type": "code",
   "execution_count": 320,
   "metadata": {},
   "outputs": [
    {
     "name": "stdout",
     "output_type": "stream",
     "text": [
      "1.5 0.8589168879733533\n",
      "2 0.8559763621992396\n",
      "3 0.858691716839753\n",
      "4 0.8543007640161375\n",
      "5 0.852646093231027\n"
     ]
    }
   ],
   "source": [
    "for k in [1.5, 2, 3, 4, 5]:\n",
    "    df = dfCopy.copy()\n",
    "    # we increment the variable k times\n",
    "    df[\"Age\"]=df[\"Age\"]*k\n",
    "    trainResults, testResults, predictions, indices = CVTestKNN(n_neighbors=13, \n",
    "                                                                n_jobs=-1, p=1, \n",
    "                                                                features=featuresSet2)\n",
    "    print(k, np.mean(testResults))"
   ]
  },
  {
   "cell_type": "code",
   "execution_count": 321,
   "metadata": {},
   "outputs": [
    {
     "name": "stdout",
     "output_type": "stream",
     "text": [
      "0.5 0.8507486918056781\n",
      "1.25 0.8586455758103533\n",
      "1 0.8568628239691366\n",
      "1.5 0.8589168879733533\n",
      "1.75 0.8564077744292826\n",
      "2 0.8559763621992396\n"
     ]
    }
   ],
   "source": [
    "for k in [0.5, 1.25, 1, 1.5,1.75, 2]:\n",
    "    df = dfCopy.copy()\n",
    "    # we increment the variable k times\n",
    "    df[\"Age\"]=df[\"Age\"]*k\n",
    "    trainResults, testResults, predictions, indices = CVTestKNN(n_neighbors=13, \n",
    "                                                                n_jobs=-1, p=1, \n",
    "                                                                features=featuresSet2)\n",
    "    print(k, np.mean(testResults))"
   ]
  },
  {
   "cell_type": "code",
   "execution_count": 322,
   "metadata": {},
   "outputs": [
    {
     "name": "stdout",
     "output_type": "stream",
     "text": [
      "0.1 0.8576181022994346\n",
      "0.25 0.8585502571808377\n",
      "0.4 0.8610673723044098\n",
      "0.5 0.8611958735314648\n",
      "0.65 0.8599041890131129\n",
      "0.8 0.8574704812718185\n"
     ]
    }
   ],
   "source": [
    "for k in [0.1, 0.25, 0.4, 0.5, 0.65,  0.8]:\n",
    "    df = dfCopy.copy()\n",
    "    \n",
    "    # For the best value of k for duration so far, \n",
    "    #we set the multiplier and look for the next variable\n",
    "    df[\"Age\"]=df[\"Age\"]*1.5\n",
    "    \n",
    "    # we increment the variable k times\n",
    "    df['Parch']=df['Parch']*k\n",
    "    trainResults, testResults, predictions, indices = CVTestKNN(n_neighbors=13, \n",
    "                                                                n_jobs=-1, p=1, \n",
    "                                                                features=featuresSet2)\n",
    "    print(k, np.mean(testResults))"
   ]
  },
  {
   "cell_type": "code",
   "execution_count": 323,
   "metadata": {},
   "outputs": [
    {
     "name": "stdout",
     "output_type": "stream",
     "text": [
      "0.1 0.8562479239268918\n",
      "0.25 0.8574212188435724\n",
      "0.4 0.858554996672755\n",
      "0.5 0.8603973086696872\n",
      "0.65 0.8613387511072865\n",
      "0.8 0.8612160421846469\n"
     ]
    }
   ],
   "source": [
    "for k in [0.1, 0.25, 0.4, 0.5, 0.65,  0.8]:\n",
    "    df = dfCopy.copy()\n",
    "    \n",
    "    df[\"Age\"]=df[\"Age\"]*1.5\n",
    "    df['Parch']=df['Parch']*0.5\n",
    "    \n",
    "    # we increment the variable k times\n",
    "    df['SibSp']=df['SibSp']*k\n",
    "    trainResults, testResults, predictions, indices = CVTestKNN(n_neighbors=13,\n",
    "                                                                n_jobs=-1, p=1, \n",
    "                                                                features=featuresSet2)\n",
    "    print(k, np.mean(testResults))"
   ]
  },
  {
   "cell_type": "code",
   "execution_count": 324,
   "metadata": {},
   "outputs": [
    {
     "name": "stdout",
     "output_type": "stream",
     "text": [
      "0.8 0.842073353982262\n"
     ]
    }
   ],
   "source": [
    "df = dfCopy.copy()\n",
    "\n",
    "df[\"Age\"]=df[\"Age\"]*1.5\n",
    "df['Parch']=df['Parch']*0.5\n",
    "df['SibSp']=df['SibSp']*0.65\n",
    "trainResults, testResults, predictions, indices = CVTestKNN(n_neighbors=13, \n",
    "                                                            weights='distance',\n",
    "                                                            n_jobs=-1, p=1, \n",
    "                                                            features=featuresSet2)\n",
    "print(k, np.mean(testResults))"
   ]
  },
  {
   "cell_type": "code",
   "execution_count": 325,
   "metadata": {},
   "outputs": [
    {
     "name": "stdout",
     "output_type": "stream",
     "text": [
      "0.8 0.8613387511072865\n"
     ]
    }
   ],
   "source": [
    "df = dfCopy.copy()\n",
    "\n",
    "df[\"Age\"]=df[\"Age\"]*1.5\n",
    "df['Parch']=df['Parch']*0.5\n",
    "df['SibSp']=df['SibSp']*0.65\n",
    "trainResults, testResults, predictions, indices = CVTestKNN(n_neighbors=13, \n",
    "                                                            weights='uniform',\n",
    "                                                            n_jobs=-1, p=1, \n",
    "                                                            features=featuresSet2)\n",
    "print(k, np.mean(testResults))"
   ]
  },
  {
   "cell_type": "code",
   "execution_count": 326,
   "metadata": {},
   "outputs": [
    {
     "name": "stdout",
     "output_type": "stream",
     "text": [
      "0.8 0.8613387511072865\n"
     ]
    }
   ],
   "source": [
    "df = dfCopy.copy()\n",
    "\n",
    "df[\"Age\"]=df[\"Age\"]*1.5\n",
    "df['Parch']=df['Parch']*0.5\n",
    "df['SibSp']=df['SibSp']*0.65\n",
    "trainResults, testResults, predictions, indices = CVTestKNN(n_neighbors=13, \n",
    "                                                            n_jobs=-1, p=1, \n",
    "                                                            features=featuresSet2)\n",
    "print(k, np.mean(testResults))\n",
    "\n",
    "modelknn = {\n",
    "    \"name\":\"KNN\",\n",
    "    \"description\":\"Pierwszy dopracowany model KNN, 13 sąsiadów, i ograniczona liczba zmodyfkowanych zmiennych\",\n",
    "    \"specification\":'n_neighbors=13, n_jobs=-1, p=1, features=featuresSet2',\n",
    "    \"trainResults\":trainResults.copy(),\n",
    "    \"testResults\":testResults.copy(),\n",
    "    \"predictions\":predictions.copy(),\n",
    "    \"indices\":indices.copy(),\n",
    "}"
   ]
  },
  {
   "cell_type": "code",
   "execution_count": 327,
   "metadata": {},
   "outputs": [],
   "source": [
    "with open(\"model_knn.p\", \"wb\") as fp:\n",
    "    pickle.dump(modelknn, fp)"
   ]
  },
  {
   "cell_type": "markdown",
   "metadata": {},
   "source": [
    "## GridSearchCV"
   ]
  },
  {
   "cell_type": "code",
   "execution_count": 328,
   "metadata": {},
   "outputs": [],
   "source": [
    "y_train = df[target]\n",
    "X_train = df.loc[:, df.columns != target]\n",
    "X_test = df_test"
   ]
  },
  {
   "cell_type": "code",
   "execution_count": 329,
   "metadata": {},
   "outputs": [
    {
     "name": "stdout",
     "output_type": "stream",
     "text": [
      "# Tuning hyper-parameters for precision\n",
      "\n",
      "Best parameters set found on development set:\n",
      "\n",
      "{'metric': 'manhattan', 'n_neighbors': 11, 'weights': 'uniform'}\n",
      "\n",
      "Grid scores on development set:\n",
      "\n",
      "Detailed classification report:\n",
      "\n",
      "The model is trained on the full development set.\n",
      "The scores are computed on the full evaluation set.\n",
      "\n",
      "              precision    recall  f1-score   support\n",
      "\n",
      "           0       0.81      0.92      0.86       275\n",
      "           1       0.84      0.65      0.73       170\n",
      "\n",
      "    accuracy                           0.82       445\n",
      "   macro avg       0.82      0.79      0.80       445\n",
      "weighted avg       0.82      0.82      0.81       445\n",
      "\n",
      "\n",
      "# Tuning hyper-parameters for recall\n",
      "\n",
      "Best parameters set found on development set:\n",
      "\n",
      "{'metric': 'manhattan', 'n_neighbors': 5, 'weights': 'uniform'}\n",
      "\n",
      "Grid scores on development set:\n",
      "\n",
      "Detailed classification report:\n",
      "\n",
      "The model is trained on the full development set.\n",
      "The scores are computed on the full evaluation set.\n",
      "\n",
      "              precision    recall  f1-score   support\n",
      "\n",
      "           0       0.80      0.91      0.85       275\n",
      "           1       0.82      0.64      0.72       170\n",
      "\n",
      "    accuracy                           0.81       445\n",
      "   macro avg       0.81      0.77      0.78       445\n",
      "weighted avg       0.81      0.81      0.80       445\n",
      "\n",
      "\n"
     ]
    }
   ],
   "source": [
    "Xtrain, Xtest, ytrain, ytest = train_test_split(X_train, y_train, \n",
    "                                                test_size=0.5, random_state=0)\n",
    "\n",
    "\n",
    "param_grid = {'n_neighbors': [3,5,11,19],\n",
    "              'weights': ['uniform', 'distance'],\n",
    "              'metric': ['euclidean', 'manhattan']}\n",
    "\n",
    "scores = ['precision', 'recall']\n",
    "\n",
    "for score in scores:\n",
    "    print(\"# Tuning hyper-parameters for %s\" % score)\n",
    "    print()\n",
    "\n",
    "    clf = GridSearchCV(\n",
    "        neighbors.KNeighborsClassifier(), param_grid, scoring='%s_macro' % score\n",
    "    )\n",
    "    clf.fit(Xtrain, ytrain)\n",
    "\n",
    "    print(\"Best parameters set found on development set:\")\n",
    "    print()\n",
    "    print(clf.best_params_)\n",
    "    print()\n",
    "    print(\"Grid scores on development set:\")\n",
    "#     print()\n",
    "#     means = clf.cv_results_['mean_test_score']\n",
    "#     stds = clf.cv_results_['std_test_score']\n",
    "#     for mean, std, params in zip(means, stds, clf.cv_results_['params']):\n",
    "#         print(\"%0.3f (+/-%0.03f) for %r\"\n",
    "#               % (mean, std * 2, params))\n",
    "    print()\n",
    "\n",
    "    print(\"Detailed classification report:\")\n",
    "    print()\n",
    "    print(\"The model is trained on the full development set.\")\n",
    "    print(\"The scores are computed on the full evaluation set.\")\n",
    "    print()\n",
    "    y_true, y_pred = ytest, clf.predict(Xtest)\n",
    "    print(classification_report(y_true, y_pred))\n",
    "    print()"
   ]
  },
  {
   "cell_type": "code",
   "execution_count": 330,
   "metadata": {},
   "outputs": [
    {
     "name": "stdout",
     "output_type": "stream",
     "text": [
      "0.8 0.8551441072992672\n"
     ]
    }
   ],
   "source": [
    "trainResults, testResults, predictions, indices = CVTestKNN(metric= 'manhattan', n_neighbors= 11, weights= 'uniform')\n",
    "print(k, np.mean(testResults))\n",
    "\n",
    "modelkNN_GSCV = {\n",
    "    \"name\":\"KNN_GridSearchCV\",\n",
    "    \"description\":\"Pierwszy dopracowany model KNN, 13 sąsiadów, i ograniczona liczba zmodyfkowanych zmiennych\",\n",
    "    \"specification\":'n_neighbors=13, n_jobs=-1, p=1, features=featuresSet2',\n",
    "    \"trainResults\":trainResults.copy(),\n",
    "    \"testResults\":testResults.copy(),\n",
    "    \"predictions\":predictions.copy(),\n",
    "    \"indices\":indices.copy(),\n",
    "}"
   ]
  },
  {
   "cell_type": "code",
   "execution_count": 331,
   "metadata": {},
   "outputs": [],
   "source": [
    "with open(\"model_knn_GSCV.p\", \"wb\") as fp:\n",
    "    pickle.dump(modelkNN_GSCV, fp)"
   ]
  },
  {
   "cell_type": "markdown",
   "metadata": {},
   "source": [
    "# SVM"
   ]
  },
  {
   "cell_type": "code",
   "execution_count": 332,
   "metadata": {},
   "outputs": [],
   "source": [
    "def CVTestSVM(nFolds = 5, randomState=2020, debug=False, features=features, \n",
    "                  *args, **kwargs):\n",
    "    kf = KFold(n_splits=nFolds, shuffle=True, random_state=randomState)\n",
    "\n",
    "    # To save memory, the folder information is only line numbers\n",
    "    testResults = []\n",
    "    \n",
    "    # the results on the training set\n",
    "    trainResults = []\n",
    "    \n",
    "    # predictions for individual folds\n",
    "    predictions = []\n",
    "    \n",
    "    # the index in the original file\n",
    "    indices = []\n",
    "    \n",
    "    for train, test in kf.split(df.index.values):\n",
    "    \n",
    "        model =SVC(C=1, # penalty value for a classification error\n",
    "                  cache_size=500, \n",
    "                  kernel='linear', \n",
    "                  max_iter=-1, \n",
    "                  probability=True, # should the function return probabilities?\n",
    "                  tol=0.001, \n",
    "                  verbose=False)\n",
    "        \n",
    "        if debug:\n",
    "            print(model)\n",
    "       \n",
    "        model.fit(df.iloc[train][features], df.iloc[train][target])\n",
    "\n",
    "\n",
    "        predsTrain = model.predict_proba(df.iloc[train][features])[:,1]\n",
    "        preds = model.predict_proba(df.iloc[test][features])[:,1]\n",
    "        \n",
    "        # information about predictions for this fold\n",
    "        predictions.append(preds.tolist().copy())\n",
    "        \n",
    "        # indexed in the original data frame\n",
    "        indices.append(df.iloc[test].index.tolist().copy())\n",
    "        \n",
    "        # The fit is counted using the ROC-AUC metric\n",
    "        trainScore = roc_auc_score(df[target].iloc[train], predsTrain)\n",
    "        testScore = roc_auc_score(df[target].iloc[test], preds)\n",
    "        \n",
    "        # Saving the results to the list \n",
    "        trainResults.append(trainScore)\n",
    "        testResults.append(testScore)\n",
    "        \n",
    "        # Information about each folder together with training results\n",
    "        #can be optionally displayed in the process\n",
    "        if debug:\n",
    "            print(\"Train AUC:\", trainScore,\n",
    "                  \"Valid AUC:\", testScore)\n",
    "        \n",
    "    return trainResults, testResults, predictions, indices"
   ]
  },
  {
   "cell_type": "code",
   "execution_count": 333,
   "metadata": {},
   "outputs": [
    {
     "name": "stdout",
     "output_type": "stream",
     "text": [
      "SVC(C=1, cache_size=500, kernel='linear', probability=True)\n",
      "Train AUC: 0.8559559009884261 Valid AUC: 0.7798856548856549\n",
      "SVC(C=1, cache_size=500, kernel='linear', probability=True)\n",
      "Train AUC: 0.835130009908771 Valid AUC: 0.8899707267404862\n",
      "SVC(C=1, cache_size=500, kernel='linear', probability=True)\n",
      "Train AUC: 0.8271726438698915 Valid AUC: 0.8309053778080328\n",
      "SVC(C=1, cache_size=500, kernel='linear', probability=True)\n",
      "Train AUC: 0.8454286134632361 Valid AUC: 0.7935096153846154\n",
      "SVC(C=1, cache_size=500, kernel='linear', probability=True)\n",
      "Train AUC: 0.8389051364797634 Valid AUC: 0.8485449735449735\n",
      "0.8285632696727525\n"
     ]
    }
   ],
   "source": [
    "trainResults, testResults, predictions, indices = CVTestSVM(debug = True)\n",
    "print(np.mean(testResults))"
   ]
  },
  {
   "cell_type": "code",
   "execution_count": 334,
   "metadata": {},
   "outputs": [],
   "source": [
    "def CVTestSVM(nFolds = 5, randomState=2020, debug=False, sampleSize = 5000, \n",
    "              *args, **kwargs):\n",
    "    kf = KFold(n_splits=nFolds, shuffle=True, random_state=randomState)\n",
    "\n",
    "    # To save memory, the folder information is only line numbers\n",
    "    testResults = []\n",
    "    \n",
    "    # the results on the training set\n",
    "    trainResults = []\n",
    "    \n",
    "    # predictions for individual folds\n",
    "    predictions = []\n",
    "    \n",
    "    # the index in the original file\n",
    "    indices = []\n",
    "    \n",
    "    for train, test in kf.split(df.index.values):\n",
    "    \n",
    "        model = SVC(probability=True, max_iter=-1, random_state=2020, \n",
    "                    tol=0.001, cache_size=500, *args, **kwargs)\n",
    "        \n",
    "        if debug:\n",
    "            print(model)\n",
    "       \n",
    "        model.fit(df.iloc[train][features], df.iloc[train][target])\n",
    "\n",
    "\n",
    "        predsTrain = model.predict_proba(df.iloc[train][features])[:,1]\n",
    "        preds = model.predict_proba(df.iloc[test][features])[:,1]\n",
    "        \n",
    "        # information about predictions for this fold\n",
    "        predictions.append(preds.tolist().copy())\n",
    "        \n",
    "        # indexed in the original data frame\n",
    "        indices.append(df.iloc[test].index.tolist().copy())\n",
    "        \n",
    "        # The fit is counted using the ROC-AUC metric\n",
    "        trainScore = roc_auc_score(df[target].iloc[train], predsTrain)\n",
    "        testScore = roc_auc_score(df[target].iloc[test], preds)\n",
    "        \n",
    "        # Saving the results to the list \n",
    "        trainResults.append(trainScore)\n",
    "        testResults.append(testScore)\n",
    "        \n",
    "        # Information about each folder together with training results\n",
    "        #can be optionally displayed in the process\n",
    "        if debug:\n",
    "            print(\"Train AUC:\", trainScore,\n",
    "                  \"Valid AUC:\", testScore)\n",
    "        \n",
    "    return trainResults, testResults, predictions, indices"
   ]
  },
  {
   "cell_type": "code",
   "execution_count": 335,
   "metadata": {},
   "outputs": [
    {
     "name": "stdout",
     "output_type": "stream",
     "text": [
      "SVC(cache_size=500, kernel='linear', probability=True, random_state=2020)\n",
      "Train AUC: 0.8559559009884261 Valid AUC: 0.7798856548856549\n",
      "SVC(cache_size=500, kernel='linear', probability=True, random_state=2020)\n",
      "Train AUC: 0.835130009908771 Valid AUC: 0.8899707267404862\n",
      "SVC(cache_size=500, kernel='linear', probability=True, random_state=2020)\n",
      "Train AUC: 0.8271726438698915 Valid AUC: 0.8309053778080328\n",
      "SVC(cache_size=500, kernel='linear', probability=True, random_state=2020)\n",
      "Train AUC: 0.8454286134632361 Valid AUC: 0.7935096153846154\n",
      "SVC(cache_size=500, kernel='linear', probability=True, random_state=2020)\n",
      "Train AUC: 0.8389009345166062 Valid AUC: 0.8482804232804233\n",
      "0.8405176205493861 0.8285103596198425\n"
     ]
    }
   ],
   "source": [
    "trainResults, testResults, predictions, indices = CVTestSVM(debug=True, kernel=\"linear\")\n",
    "\n",
    "print(np.mean(trainResults), np.mean(testResults))"
   ]
  },
  {
   "cell_type": "code",
   "execution_count": 336,
   "metadata": {},
   "outputs": [
    {
     "name": "stdout",
     "output_type": "stream",
     "text": [
      "0.01 0.8557280965259441\n",
      "0.1 0.8275558002534898\n",
      "0.25 0.8330430679766773\n",
      "0.5 0.8330616692104581\n",
      "1 0.8285103596198425\n",
      "2 0.829991226218171\n",
      "5 0.8317988385136875\n",
      "10 0.8290252318498107\n",
      "25 0.8196862115352103\n",
      "50 0.8225776881633061\n",
      "100 0.8282288608934026\n"
     ]
    }
   ],
   "source": [
    "for c in [0.01, 0.1, 0.25, 0.5, 1, 2, 5, 10, 25, 50, 100]:\n",
    "    trainResults, testResults, predictions, indices = CVTestSVM(debug=False, kernel=\"linear\", \n",
    "                                                                C=c)\n",
    "    print(c, np.mean(testResults))"
   ]
  },
  {
   "cell_type": "code",
   "execution_count": 337,
   "metadata": {},
   "outputs": [
    {
     "name": "stdout",
     "output_type": "stream",
     "text": [
      "linear 0.8330616692104581\n",
      "poly 0.8493657017195206\n",
      "rbf 0.8603757727565432\n",
      "sigmoid 0.7714685594058486\n"
     ]
    }
   ],
   "source": [
    "for ker in ['linear', 'poly', 'rbf', 'sigmoid']:\n",
    "    trainResults, testResults, predictions, indices = CVTestSVM(debug=False, kernel=ker, \n",
    "                                                                C=0.5)\n",
    "    print(ker, np.mean(testResults))"
   ]
  },
  {
   "cell_type": "code",
   "execution_count": 338,
   "metadata": {},
   "outputs": [
    {
     "name": "stdout",
     "output_type": "stream",
     "text": [
      "0.001 0.8334209431763069\n",
      "0.0001 0.8327517313736067\n"
     ]
    }
   ],
   "source": [
    "for g in [1e-3, 1e-4]:\n",
    "    trainResults, testResults, predictions, indices = CVTestSVM(debug=False, kernel='rbf', \n",
    "                                                                C=0.5, gamma=g)\n",
    "    print(g, np.mean(testResults))"
   ]
  },
  {
   "cell_type": "markdown",
   "metadata": {},
   "source": [
    "#### scale is default"
   ]
  },
  {
   "cell_type": "code",
   "execution_count": 339,
   "metadata": {},
   "outputs": [
    {
     "name": "stdout",
     "output_type": "stream",
     "text": [
      "0.8334209431763069\n"
     ]
    }
   ],
   "source": [
    "trainResults, testResults, predictions, indices = CVTestSVM(debug=False, kernel='rbf', \n",
    "                                                                C=0.5, gamma=1e-3)\n",
    "print(np.mean(testResults))"
   ]
  },
  {
   "cell_type": "code",
   "execution_count": 340,
   "metadata": {},
   "outputs": [
    {
     "name": "stdout",
     "output_type": "stream",
     "text": [
      "0.8334209431763069\n"
     ]
    }
   ],
   "source": [
    "trainResults, testResults, predictions, indices = CVTestSVM(debug=False, kernel='rbf', \n",
    "                                                                C=0.5, gamma=1e-3)\n",
    "print(np.mean(testResults))\n",
    "\n",
    "modelsvm = {\n",
    "    \"name\":\"SVM\",\n",
    "    \"description\":\"Model SVM  i kernelem RBF\",\n",
    "    \"specification\":'kernel=\"rbf\" C=c,',\n",
    "    \"trainResults\":trainResults.copy(),\n",
    "    \"testResults\":testResults.copy(),\n",
    "    \"predictions\":predictions.copy(),\n",
    "    \"indices\":indices.copy(),\n",
    "}"
   ]
  },
  {
   "cell_type": "code",
   "execution_count": 341,
   "metadata": {},
   "outputs": [],
   "source": [
    "with open(\"model_svm.p\", \"wb\") as fp:\n",
    "    # Zapisujemy obiekt do wskaźnika pliku\n",
    "    pickle.dump(modelsvm, fp)"
   ]
  },
  {
   "cell_type": "markdown",
   "metadata": {},
   "source": [
    "### GridSeachCV"
   ]
  },
  {
   "cell_type": "code",
   "execution_count": 342,
   "metadata": {},
   "outputs": [
    {
     "name": "stdout",
     "output_type": "stream",
     "text": [
      "# Tuning hyper-parameters for precision\n",
      "\n"
     ]
    },
    {
     "name": "stderr",
     "output_type": "stream",
     "text": [
      "/Users/ola/opt/anaconda3/lib/python3.8/site-packages/sklearn/metrics/_classification.py:1221: UndefinedMetricWarning: Precision is ill-defined and being set to 0.0 in labels with no predicted samples. Use `zero_division` parameter to control this behavior.\n",
      "  _warn_prf(average, modifier, msg_start, len(result))\n",
      "/Users/ola/opt/anaconda3/lib/python3.8/site-packages/sklearn/metrics/_classification.py:1221: UndefinedMetricWarning: Precision is ill-defined and being set to 0.0 in labels with no predicted samples. Use `zero_division` parameter to control this behavior.\n",
      "  _warn_prf(average, modifier, msg_start, len(result))\n",
      "/Users/ola/opt/anaconda3/lib/python3.8/site-packages/sklearn/metrics/_classification.py:1221: UndefinedMetricWarning: Precision is ill-defined and being set to 0.0 in labels with no predicted samples. Use `zero_division` parameter to control this behavior.\n",
      "  _warn_prf(average, modifier, msg_start, len(result))\n",
      "/Users/ola/opt/anaconda3/lib/python3.8/site-packages/sklearn/metrics/_classification.py:1221: UndefinedMetricWarning: Precision is ill-defined and being set to 0.0 in labels with no predicted samples. Use `zero_division` parameter to control this behavior.\n",
      "  _warn_prf(average, modifier, msg_start, len(result))\n",
      "/Users/ola/opt/anaconda3/lib/python3.8/site-packages/sklearn/metrics/_classification.py:1221: UndefinedMetricWarning: Precision is ill-defined and being set to 0.0 in labels with no predicted samples. Use `zero_division` parameter to control this behavior.\n",
      "  _warn_prf(average, modifier, msg_start, len(result))\n",
      "/Users/ola/opt/anaconda3/lib/python3.8/site-packages/sklearn/metrics/_classification.py:1221: UndefinedMetricWarning: Precision is ill-defined and being set to 0.0 in labels with no predicted samples. Use `zero_division` parameter to control this behavior.\n",
      "  _warn_prf(average, modifier, msg_start, len(result))\n",
      "/Users/ola/opt/anaconda3/lib/python3.8/site-packages/sklearn/metrics/_classification.py:1221: UndefinedMetricWarning: Precision is ill-defined and being set to 0.0 in labels with no predicted samples. Use `zero_division` parameter to control this behavior.\n",
      "  _warn_prf(average, modifier, msg_start, len(result))\n",
      "/Users/ola/opt/anaconda3/lib/python3.8/site-packages/sklearn/metrics/_classification.py:1221: UndefinedMetricWarning: Precision is ill-defined and being set to 0.0 in labels with no predicted samples. Use `zero_division` parameter to control this behavior.\n",
      "  _warn_prf(average, modifier, msg_start, len(result))\n",
      "/Users/ola/opt/anaconda3/lib/python3.8/site-packages/sklearn/metrics/_classification.py:1221: UndefinedMetricWarning: Precision is ill-defined and being set to 0.0 in labels with no predicted samples. Use `zero_division` parameter to control this behavior.\n",
      "  _warn_prf(average, modifier, msg_start, len(result))\n",
      "/Users/ola/opt/anaconda3/lib/python3.8/site-packages/sklearn/metrics/_classification.py:1221: UndefinedMetricWarning: Precision is ill-defined and being set to 0.0 in labels with no predicted samples. Use `zero_division` parameter to control this behavior.\n",
      "  _warn_prf(average, modifier, msg_start, len(result))\n",
      "/Users/ola/opt/anaconda3/lib/python3.8/site-packages/sklearn/metrics/_classification.py:1221: UndefinedMetricWarning: Precision is ill-defined and being set to 0.0 in labels with no predicted samples. Use `zero_division` parameter to control this behavior.\n",
      "  _warn_prf(average, modifier, msg_start, len(result))\n",
      "/Users/ola/opt/anaconda3/lib/python3.8/site-packages/sklearn/metrics/_classification.py:1221: UndefinedMetricWarning: Precision is ill-defined and being set to 0.0 in labels with no predicted samples. Use `zero_division` parameter to control this behavior.\n",
      "  _warn_prf(average, modifier, msg_start, len(result))\n",
      "/Users/ola/opt/anaconda3/lib/python3.8/site-packages/sklearn/metrics/_classification.py:1221: UndefinedMetricWarning: Precision is ill-defined and being set to 0.0 in labels with no predicted samples. Use `zero_division` parameter to control this behavior.\n",
      "  _warn_prf(average, modifier, msg_start, len(result))\n"
     ]
    },
    {
     "name": "stdout",
     "output_type": "stream",
     "text": [
      "Best parameters set found on development set:\n",
      "\n",
      "{'C': 1000, 'gamma': 0.001, 'kernel': 'rbf'}\n",
      "\n",
      "Grid scores on development set:\n",
      "Detailed classification report:\n",
      "\n",
      "The model is trained on the full development set.\n",
      "The scores are computed on the full evaluation set.\n",
      "\n",
      "              precision    recall  f1-score   support\n",
      "\n",
      "           0       0.82      0.87      0.84       275\n",
      "           1       0.76      0.69      0.73       170\n",
      "\n",
      "    accuracy                           0.80       445\n",
      "   macro avg       0.79      0.78      0.78       445\n",
      "weighted avg       0.80      0.80      0.80       445\n",
      "\n",
      "\n",
      "# Tuning hyper-parameters for recall\n",
      "\n",
      "Best parameters set found on development set:\n",
      "\n",
      "{'C': 1000, 'gamma': 0.001, 'kernel': 'rbf'}\n",
      "\n",
      "Grid scores on development set:\n",
      "Detailed classification report:\n",
      "\n",
      "The model is trained on the full development set.\n",
      "The scores are computed on the full evaluation set.\n",
      "\n",
      "              precision    recall  f1-score   support\n",
      "\n",
      "           0       0.82      0.87      0.84       275\n",
      "           1       0.76      0.69      0.73       170\n",
      "\n",
      "    accuracy                           0.80       445\n",
      "   macro avg       0.79      0.78      0.78       445\n",
      "weighted avg       0.80      0.80      0.80       445\n",
      "\n",
      "\n"
     ]
    }
   ],
   "source": [
    "Xtrain, Xtest, ytrain, ytest = train_test_split(X_train, y_train, \n",
    "                                                test_size=0.5, random_state=0)\n",
    "\n",
    "# Set the parameters by cross-validation\n",
    "param_grid = [{'kernel': ['rbf'], 'gamma': [1e-3, 1e-4],\n",
    "                     'C': [1, 10, 100, 1000]},\n",
    "                    {'kernel': ['linear'], 'C': [1, 10, 100, 1000]}]\n",
    "\n",
    "scores = ['precision', 'recall']\n",
    "\n",
    "for score in scores:\n",
    "    print(\"# Tuning hyper-parameters for %s\" % score)\n",
    "    print()\n",
    "\n",
    "    clf = GridSearchCV(\n",
    "        SVC(), param_grid, scoring='%s_macro' % score\n",
    "    )\n",
    "    clf.fit(Xtrain, ytrain)\n",
    "\n",
    "    print(\"Best parameters set found on development set:\")\n",
    "    print()\n",
    "    print(clf.best_params_)\n",
    "    print()\n",
    "    print(\"Grid scores on development set:\")\n",
    "#     print()\n",
    "#     means = clf.cv_results_['mean_test_score']\n",
    "#     stds = clf.cv_results_['std_test_score']\n",
    "#     for mean, std, params in zip(means, stds, clf.cv_results_['params']):\n",
    "#         print(\"%0.3f (+/-%0.03f) for %r\"\n",
    "#               % (mean, std * 2, params))\n",
    "#     print()\n",
    "\n",
    "    print(\"Detailed classification report:\")\n",
    "    print()\n",
    "    print(\"The model is trained on the full development set.\")\n",
    "    print(\"The scores are computed on the full evaluation set.\")\n",
    "    print()\n",
    "    y_true, y_pred = ytest, clf.predict(Xtest)\n",
    "    print(classification_report(y_true, y_pred))\n",
    "    print()"
   ]
  },
  {
   "cell_type": "code",
   "execution_count": 343,
   "metadata": {},
   "outputs": [
    {
     "name": "stdout",
     "output_type": "stream",
     "text": [
      "0.8334209431763069\n"
     ]
    }
   ],
   "source": [
    "trainResults, testResults, predictions, indices = CVTestSVM(debug=False, kernel='rbf', \n",
    "                                                                C=0.5, gamma=1e-3)\n",
    "print(np.mean(testResults))\n",
    "\n",
    "modelsvm_GSCV = {\n",
    "    \"name\":\"SVM with hyperparameter tuning by GridSearchCV\",\n",
    "    \"description\":\"Model SVM  i kernelem RBF\",\n",
    "    \"specification\":'kernel=\"rbf\" C=c,',\n",
    "    \"trainResults\":trainResults.copy(),\n",
    "    \"testResults\":testResults.copy(),\n",
    "    \"predictions\":predictions.copy(),\n",
    "    \"indices\":indices.copy(),\n",
    "}"
   ]
  },
  {
   "cell_type": "code",
   "execution_count": 344,
   "metadata": {},
   "outputs": [],
   "source": [
    "with open(\"model_svm_GSCV.p\", \"wb\") as fp:\n",
    "    # Zapisujemy obiekt do wskaźnika pliku\n",
    "    pickle.dump(modelsvm_GSCV, fp)"
   ]
  },
  {
   "cell_type": "markdown",
   "metadata": {},
   "source": [
    "# Summary"
   ]
  },
  {
   "cell_type": "code",
   "execution_count": 353,
   "metadata": {},
   "outputs": [],
   "source": []
  },
  {
   "cell_type": "code",
   "execution_count": 346,
   "metadata": {},
   "outputs": [],
   "source": [
    "# Let's also load previously saved models\n",
    "with open(\"model_RF.p\", \"rb\") as fp:\n",
    "    modelRF = pickle.load(fp)\n",
    "    \n",
    "with open(\"model_RF_GSCV.p\", \"rb\") as fp:\n",
    "    modelRF_GSCV = pickle.load(fp)\n",
    "    \n",
    "with open(\"model_knn.p\", \"rb\") as fp:\n",
    "    modelknn = pickle.load(fp)\n",
    "    \n",
    "with open(\"model_knn_GSCV.p\", \"rb\") as fp:\n",
    "    modelknn_GSCV = pickle.load(fp)\n",
    "    \n",
    "with open(\"model_svm.p\", \"rb\") as fp:\n",
    "    modelsvm = pickle.load(fp)\n",
    "    \n",
    "with open(\"model_svm_GSCV.p\", \"rb\") as fp:\n",
    "    modelsvm_GSCV = pickle.load(fp)"
   ]
  },
  {
   "cell_type": "code",
   "execution_count": 347,
   "metadata": {},
   "outputs": [
    {
     "data": {
      "image/png": "[encoded data removed]",
      "text/plain": [
       "<Figure size 720x648 with 1 Axes>"
      ]
     },
     "metadata": {
      "needs_background": "light"
     },
     "output_type": "display_data"
    }
   ],
   "source": [
    "res2plot = []\n",
    "true = (df[target]==1)\n",
    "for result in [modelRF, modelknn, modelsvm]:\n",
    "    # we create a prediction vector creating a pandas series, \n",
    "    #and then we sort the index\n",
    "    pred = pd.Series(sum(result[\"predictions\"], []), \n",
    "                     index=sum(result[\"indices\"], [])).sort_index()\n",
    "    res2plot.append((true, pred, result[\"name\"]))\n",
    "    \n",
    "# We call the drawing function\n",
    "plotROCs(res2plot)"
   ]
  },
  {
   "cell_type": "code",
   "execution_count": 354,
   "metadata": {},
   "outputs": [
    {
     "data": {
      "image/png": "[encoded data removed]",
      "text/plain": [
       "<Figure size 720x648 with 1 Axes>"
      ]
     },
     "metadata": {
      "needs_background": "light"
     },
     "output_type": "display_data"
    }
   ],
   "source": [
    "res2plot = []\n",
    "true = (df[target]==1)\n",
    "for result in [modelRF,modelRF_GSCV, modelknn,modelknn_GSCV, modelsvm,modelsvm_GSCV]:\n",
    "    # we create a prediction vector creating a pandas series, \n",
    "    #and then we sort the index\n",
    "    pred = pd.Series(sum(result[\"predictions\"], []), \n",
    "                     index=sum(result[\"indices\"], [])).sort_index()\n",
    "    res2plot.append((true, pred, result[\"name\"]))\n",
    "    \n",
    "# We call the drawing function\n",
    "plotROCs(res2plot)"
   ]
  },
  {
   "cell_type": "markdown",
   "metadata": {},
   "source": [
    "### Random Forest after hyperparameter tuning gives the best result."
   ]
  },
  {
   "cell_type": "markdown",
   "metadata": {},
   "source": [
    "Survival prediction with the model with the best ROC AUC SCORE"
   ]
  },
  {
   "cell_type": "code",
   "execution_count": 356,
   "metadata": {},
   "outputs": [
    {
     "name": "stdout",
     "output_type": "stream",
     "text": [
      "END OF THE PROJECT\n"
     ]
    }
   ],
   "source": [
    "model = RandomForestClassifier(n_estimators=500, max_depth=6, max_features=8, \n",
    "                               min_samples_split=4)\n",
    "model.fit(df.loc[:, df.columns != target], df[target])\n",
    "predictions = model.predict(df_test)\n",
    "output = pd.DataFrame({'index': df_test.index, 'Survived': predictions})\n",
    "output.to_csv('survival_on_Titanic_predicton.csv', index=False)\n",
    "print(\"END OF THE PROJECT\")"
   ]
  }
 ],
 "metadata": {
  "kernelspec": {
   "display_name": "Python 3",
   "language": "python",
   "name": "python3"
  },
  "language_info": {
   "codemirror_mode": {
    "name": "ipython",
    "version": 3
   },
   "file_extension": ".py",
   "mimetype": "text/x-python",
   "name": "python",
   "nbconvert_exporter": "python",
   "pygments_lexer": "ipython3",
   "version": "3.8.3"
  }
 },
 "nbformat": 4,
 "nbformat_minor": 4
}
